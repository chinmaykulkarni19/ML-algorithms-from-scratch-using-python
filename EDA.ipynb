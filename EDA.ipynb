{
  "nbformat": 4,
  "nbformat_minor": 0,
  "metadata": {
    "colab": {
      "name": "EDA.ipynb",
      "provenance": [],
      "collapsed_sections": []
    },
    "kernelspec": {
      "name": "python3",
      "display_name": "Python 3"
    }
  },
  "cells": [
    {
      "cell_type": "markdown",
      "metadata": {
        "id": "6uhnAX1Cu52X"
      },
      "source": [
        "# **EDA**"
      ]
    },
    {
      "cell_type": "markdown",
      "metadata": {
        "id": "dhNN7ll5vq5C"
      },
      "source": [
        "**Importing required libraries**"
      ]
    },
    {
      "cell_type": "code",
      "metadata": {
        "id": "umixA6bxMMwp"
      },
      "source": [
        "import numpy as np # linear algebra\n",
        "import pandas as pd # data processing, CSV file I/O (e.g. pd.read_csv)\n",
        "import matplotlib.pyplot as plt # visulaziation : plots , charts , bar graphs etc\n",
        "import seaborn as sns # visulaziation : plots , charts , bar graphs etc\n",
        "import warnings # to avoid warnings\n",
        "warnings.filterwarnings('ignore')"
      ],
      "execution_count": 36,
      "outputs": []
    },
    {
      "cell_type": "code",
      "metadata": {
        "id": "43wQ08gXMuwW",
        "colab": {
          "base_uri": "https://localhost:8080/",
          "height": 502
        },
        "outputId": "89d9d34a-94bb-441b-a447-dc1357475378"
      },
      "source": [
        "df = pd.read_csv('players_20.csv') # loading dataset\n",
        "df.head() # displaying first five rows"
      ],
      "execution_count": 37,
      "outputs": [
        {
          "output_type": "execute_result",
          "data": {
            "text/html": [
              "<div>\n",
              "<style scoped>\n",
              "    .dataframe tbody tr th:only-of-type {\n",
              "        vertical-align: middle;\n",
              "    }\n",
              "\n",
              "    .dataframe tbody tr th {\n",
              "        vertical-align: top;\n",
              "    }\n",
              "\n",
              "    .dataframe thead th {\n",
              "        text-align: right;\n",
              "    }\n",
              "</style>\n",
              "<table border=\"1\" class=\"dataframe\">\n",
              "  <thead>\n",
              "    <tr style=\"text-align: right;\">\n",
              "      <th></th>\n",
              "      <th>sofifa_id</th>\n",
              "      <th>player_url</th>\n",
              "      <th>short_name</th>\n",
              "      <th>long_name</th>\n",
              "      <th>age</th>\n",
              "      <th>dob</th>\n",
              "      <th>height_cm</th>\n",
              "      <th>weight_kg</th>\n",
              "      <th>nationality</th>\n",
              "      <th>club</th>\n",
              "      <th>overall</th>\n",
              "      <th>potential</th>\n",
              "      <th>value_eur</th>\n",
              "      <th>wage_eur</th>\n",
              "      <th>player_positions</th>\n",
              "      <th>preferred_foot</th>\n",
              "      <th>international_reputation</th>\n",
              "      <th>weak_foot</th>\n",
              "      <th>skill_moves</th>\n",
              "      <th>work_rate</th>\n",
              "      <th>body_type</th>\n",
              "      <th>real_face</th>\n",
              "      <th>release_clause_eur</th>\n",
              "      <th>player_tags</th>\n",
              "      <th>team_position</th>\n",
              "      <th>team_jersey_number</th>\n",
              "      <th>loaned_from</th>\n",
              "      <th>joined</th>\n",
              "      <th>contract_valid_until</th>\n",
              "      <th>nation_position</th>\n",
              "      <th>nation_jersey_number</th>\n",
              "      <th>pace</th>\n",
              "      <th>shooting</th>\n",
              "      <th>passing</th>\n",
              "      <th>dribbling</th>\n",
              "      <th>defending</th>\n",
              "      <th>physic</th>\n",
              "      <th>player_traits</th>\n",
              "      <th>attacking_crossing</th>\n",
              "      <th>attacking_finishing</th>\n",
              "      <th>attacking_heading_accuracy</th>\n",
              "      <th>attacking_short_passing</th>\n",
              "      <th>attacking_volleys</th>\n",
              "      <th>skill_dribbling</th>\n",
              "      <th>skill_curve</th>\n",
              "      <th>skill_fk_accuracy</th>\n",
              "      <th>skill_long_passing</th>\n",
              "      <th>skill_ball_control</th>\n",
              "      <th>movement_acceleration</th>\n",
              "      <th>movement_sprint_speed</th>\n",
              "      <th>movement_agility</th>\n",
              "      <th>movement_reactions</th>\n",
              "      <th>movement_balance</th>\n",
              "      <th>power_shot_power</th>\n",
              "      <th>power_jumping</th>\n",
              "      <th>power_stamina</th>\n",
              "      <th>power_strength</th>\n",
              "      <th>power_long_shots</th>\n",
              "      <th>mentality_aggression</th>\n",
              "      <th>mentality_interceptions</th>\n",
              "      <th>mentality_positioning</th>\n",
              "      <th>mentality_vision</th>\n",
              "      <th>mentality_penalties</th>\n",
              "      <th>mentality_composure</th>\n",
              "      <th>defending_marking</th>\n",
              "      <th>defending_standing_tackle</th>\n",
              "      <th>defending_sliding_tackle</th>\n",
              "      <th>goalkeeping_diving</th>\n",
              "      <th>goalkeeping_handling</th>\n",
              "      <th>goalkeeping_kicking</th>\n",
              "      <th>goalkeeping_positioning</th>\n",
              "      <th>goalkeeping_reflexes</th>\n",
              "    </tr>\n",
              "  </thead>\n",
              "  <tbody>\n",
              "    <tr>\n",
              "      <th>0</th>\n",
              "      <td>158023</td>\n",
              "      <td>https://sofifa.com/player/158023/lionel-messi/...</td>\n",
              "      <td>L. Messi</td>\n",
              "      <td>Lionel Andrés Messi Cuccittini</td>\n",
              "      <td>32</td>\n",
              "      <td>24-06-1987</td>\n",
              "      <td>170</td>\n",
              "      <td>72</td>\n",
              "      <td>Argentina</td>\n",
              "      <td>FC Barcelona</td>\n",
              "      <td>94</td>\n",
              "      <td>94</td>\n",
              "      <td>95500000</td>\n",
              "      <td>565000</td>\n",
              "      <td>RW, CF, ST</td>\n",
              "      <td>Left</td>\n",
              "      <td>5</td>\n",
              "      <td>4</td>\n",
              "      <td>4</td>\n",
              "      <td>Medium/Low</td>\n",
              "      <td>Messi</td>\n",
              "      <td>Yes</td>\n",
              "      <td>195800000.0</td>\n",
              "      <td>#Dribbler, #Distance Shooter, #Crosser, #FK Sp...</td>\n",
              "      <td>RW</td>\n",
              "      <td>10.0</td>\n",
              "      <td>NaN</td>\n",
              "      <td>01-07-2004</td>\n",
              "      <td>2021.0</td>\n",
              "      <td>NaN</td>\n",
              "      <td>NaN</td>\n",
              "      <td>87.0</td>\n",
              "      <td>92.0</td>\n",
              "      <td>92.0</td>\n",
              "      <td>96.0</td>\n",
              "      <td>39.0</td>\n",
              "      <td>66.0</td>\n",
              "      <td>Beat Offside Trap, Argues with Officials, Earl...</td>\n",
              "      <td>88</td>\n",
              "      <td>95</td>\n",
              "      <td>70</td>\n",
              "      <td>92</td>\n",
              "      <td>88</td>\n",
              "      <td>97</td>\n",
              "      <td>93</td>\n",
              "      <td>94</td>\n",
              "      <td>92</td>\n",
              "      <td>96</td>\n",
              "      <td>91</td>\n",
              "      <td>84</td>\n",
              "      <td>93</td>\n",
              "      <td>95</td>\n",
              "      <td>95</td>\n",
              "      <td>86</td>\n",
              "      <td>68</td>\n",
              "      <td>75</td>\n",
              "      <td>68</td>\n",
              "      <td>94</td>\n",
              "      <td>48</td>\n",
              "      <td>40</td>\n",
              "      <td>94</td>\n",
              "      <td>94</td>\n",
              "      <td>75</td>\n",
              "      <td>96</td>\n",
              "      <td>33</td>\n",
              "      <td>37</td>\n",
              "      <td>26</td>\n",
              "      <td>6</td>\n",
              "      <td>11</td>\n",
              "      <td>15</td>\n",
              "      <td>14</td>\n",
              "      <td>8</td>\n",
              "    </tr>\n",
              "    <tr>\n",
              "      <th>1</th>\n",
              "      <td>20801</td>\n",
              "      <td>https://sofifa.com/player/20801/c-ronaldo-dos-...</td>\n",
              "      <td>Cristiano Ronaldo</td>\n",
              "      <td>Cristiano Ronaldo dos Santos Aveiro</td>\n",
              "      <td>34</td>\n",
              "      <td>05-02-1985</td>\n",
              "      <td>187</td>\n",
              "      <td>83</td>\n",
              "      <td>Portugal</td>\n",
              "      <td>Juventus</td>\n",
              "      <td>93</td>\n",
              "      <td>93</td>\n",
              "      <td>58500000</td>\n",
              "      <td>405000</td>\n",
              "      <td>ST, LW</td>\n",
              "      <td>Right</td>\n",
              "      <td>5</td>\n",
              "      <td>4</td>\n",
              "      <td>5</td>\n",
              "      <td>High/Low</td>\n",
              "      <td>C. Ronaldo</td>\n",
              "      <td>Yes</td>\n",
              "      <td>96500000.0</td>\n",
              "      <td>#Speedster, #Dribbler, #Distance Shooter, #Acr...</td>\n",
              "      <td>LW</td>\n",
              "      <td>7.0</td>\n",
              "      <td>NaN</td>\n",
              "      <td>10-07-2018</td>\n",
              "      <td>2022.0</td>\n",
              "      <td>LS</td>\n",
              "      <td>7.0</td>\n",
              "      <td>90.0</td>\n",
              "      <td>93.0</td>\n",
              "      <td>82.0</td>\n",
              "      <td>89.0</td>\n",
              "      <td>35.0</td>\n",
              "      <td>78.0</td>\n",
              "      <td>Long Throw-in, Selfish, Argues with Officials,...</td>\n",
              "      <td>84</td>\n",
              "      <td>94</td>\n",
              "      <td>89</td>\n",
              "      <td>83</td>\n",
              "      <td>87</td>\n",
              "      <td>89</td>\n",
              "      <td>81</td>\n",
              "      <td>76</td>\n",
              "      <td>77</td>\n",
              "      <td>92</td>\n",
              "      <td>89</td>\n",
              "      <td>91</td>\n",
              "      <td>87</td>\n",
              "      <td>96</td>\n",
              "      <td>71</td>\n",
              "      <td>95</td>\n",
              "      <td>95</td>\n",
              "      <td>85</td>\n",
              "      <td>78</td>\n",
              "      <td>93</td>\n",
              "      <td>63</td>\n",
              "      <td>29</td>\n",
              "      <td>95</td>\n",
              "      <td>82</td>\n",
              "      <td>85</td>\n",
              "      <td>95</td>\n",
              "      <td>28</td>\n",
              "      <td>32</td>\n",
              "      <td>24</td>\n",
              "      <td>7</td>\n",
              "      <td>11</td>\n",
              "      <td>15</td>\n",
              "      <td>14</td>\n",
              "      <td>11</td>\n",
              "    </tr>\n",
              "    <tr>\n",
              "      <th>2</th>\n",
              "      <td>190871</td>\n",
              "      <td>https://sofifa.com/player/190871/neymar-da-sil...</td>\n",
              "      <td>Neymar Jr</td>\n",
              "      <td>Neymar da Silva Santos Junior</td>\n",
              "      <td>27</td>\n",
              "      <td>05-02-1992</td>\n",
              "      <td>175</td>\n",
              "      <td>68</td>\n",
              "      <td>Brazil</td>\n",
              "      <td>Paris Saint-Germain</td>\n",
              "      <td>92</td>\n",
              "      <td>92</td>\n",
              "      <td>105500000</td>\n",
              "      <td>290000</td>\n",
              "      <td>LW, CAM</td>\n",
              "      <td>Right</td>\n",
              "      <td>5</td>\n",
              "      <td>5</td>\n",
              "      <td>5</td>\n",
              "      <td>High/Medium</td>\n",
              "      <td>Neymar</td>\n",
              "      <td>Yes</td>\n",
              "      <td>195200000.0</td>\n",
              "      <td>#Speedster, #Dribbler, #Playmaker  , #Crosser,...</td>\n",
              "      <td>CAM</td>\n",
              "      <td>10.0</td>\n",
              "      <td>NaN</td>\n",
              "      <td>03-08-2017</td>\n",
              "      <td>2022.0</td>\n",
              "      <td>LW</td>\n",
              "      <td>10.0</td>\n",
              "      <td>91.0</td>\n",
              "      <td>85.0</td>\n",
              "      <td>87.0</td>\n",
              "      <td>95.0</td>\n",
              "      <td>32.0</td>\n",
              "      <td>58.0</td>\n",
              "      <td>Power Free-Kick, Injury Free, Selfish, Early C...</td>\n",
              "      <td>87</td>\n",
              "      <td>87</td>\n",
              "      <td>62</td>\n",
              "      <td>87</td>\n",
              "      <td>87</td>\n",
              "      <td>96</td>\n",
              "      <td>88</td>\n",
              "      <td>87</td>\n",
              "      <td>81</td>\n",
              "      <td>95</td>\n",
              "      <td>94</td>\n",
              "      <td>89</td>\n",
              "      <td>96</td>\n",
              "      <td>92</td>\n",
              "      <td>84</td>\n",
              "      <td>80</td>\n",
              "      <td>61</td>\n",
              "      <td>81</td>\n",
              "      <td>49</td>\n",
              "      <td>84</td>\n",
              "      <td>51</td>\n",
              "      <td>36</td>\n",
              "      <td>87</td>\n",
              "      <td>90</td>\n",
              "      <td>90</td>\n",
              "      <td>94</td>\n",
              "      <td>27</td>\n",
              "      <td>26</td>\n",
              "      <td>29</td>\n",
              "      <td>9</td>\n",
              "      <td>9</td>\n",
              "      <td>15</td>\n",
              "      <td>15</td>\n",
              "      <td>11</td>\n",
              "    </tr>\n",
              "    <tr>\n",
              "      <th>3</th>\n",
              "      <td>200389</td>\n",
              "      <td>https://sofifa.com/player/200389/jan-oblak/20/...</td>\n",
              "      <td>J. Oblak</td>\n",
              "      <td>Jan Oblak</td>\n",
              "      <td>26</td>\n",
              "      <td>07-01-1993</td>\n",
              "      <td>188</td>\n",
              "      <td>87</td>\n",
              "      <td>Slovenia</td>\n",
              "      <td>Atlético Madrid</td>\n",
              "      <td>91</td>\n",
              "      <td>93</td>\n",
              "      <td>77500000</td>\n",
              "      <td>125000</td>\n",
              "      <td>GK</td>\n",
              "      <td>Right</td>\n",
              "      <td>3</td>\n",
              "      <td>3</td>\n",
              "      <td>1</td>\n",
              "      <td>Medium/Medium</td>\n",
              "      <td>Normal</td>\n",
              "      <td>Yes</td>\n",
              "      <td>164700000.0</td>\n",
              "      <td>NaN</td>\n",
              "      <td>GK</td>\n",
              "      <td>13.0</td>\n",
              "      <td>NaN</td>\n",
              "      <td>16-07-2014</td>\n",
              "      <td>2023.0</td>\n",
              "      <td>GK</td>\n",
              "      <td>1.0</td>\n",
              "      <td>NaN</td>\n",
              "      <td>NaN</td>\n",
              "      <td>NaN</td>\n",
              "      <td>NaN</td>\n",
              "      <td>NaN</td>\n",
              "      <td>NaN</td>\n",
              "      <td>Flair, Acrobatic Clearance</td>\n",
              "      <td>13</td>\n",
              "      <td>11</td>\n",
              "      <td>15</td>\n",
              "      <td>43</td>\n",
              "      <td>13</td>\n",
              "      <td>12</td>\n",
              "      <td>13</td>\n",
              "      <td>14</td>\n",
              "      <td>40</td>\n",
              "      <td>30</td>\n",
              "      <td>43</td>\n",
              "      <td>60</td>\n",
              "      <td>67</td>\n",
              "      <td>88</td>\n",
              "      <td>49</td>\n",
              "      <td>59</td>\n",
              "      <td>78</td>\n",
              "      <td>41</td>\n",
              "      <td>78</td>\n",
              "      <td>12</td>\n",
              "      <td>34</td>\n",
              "      <td>19</td>\n",
              "      <td>11</td>\n",
              "      <td>65</td>\n",
              "      <td>11</td>\n",
              "      <td>68</td>\n",
              "      <td>27</td>\n",
              "      <td>12</td>\n",
              "      <td>18</td>\n",
              "      <td>87</td>\n",
              "      <td>92</td>\n",
              "      <td>78</td>\n",
              "      <td>90</td>\n",
              "      <td>89</td>\n",
              "    </tr>\n",
              "    <tr>\n",
              "      <th>4</th>\n",
              "      <td>183277</td>\n",
              "      <td>https://sofifa.com/player/183277/eden-hazard/2...</td>\n",
              "      <td>E. Hazard</td>\n",
              "      <td>Eden Hazard</td>\n",
              "      <td>28</td>\n",
              "      <td>07-01-1991</td>\n",
              "      <td>175</td>\n",
              "      <td>74</td>\n",
              "      <td>Belgium</td>\n",
              "      <td>Real Madrid</td>\n",
              "      <td>91</td>\n",
              "      <td>91</td>\n",
              "      <td>90000000</td>\n",
              "      <td>470000</td>\n",
              "      <td>LW, CF</td>\n",
              "      <td>Right</td>\n",
              "      <td>4</td>\n",
              "      <td>4</td>\n",
              "      <td>4</td>\n",
              "      <td>High/Medium</td>\n",
              "      <td>Normal</td>\n",
              "      <td>Yes</td>\n",
              "      <td>184500000.0</td>\n",
              "      <td>#Speedster, #Dribbler, #Acrobat</td>\n",
              "      <td>LW</td>\n",
              "      <td>7.0</td>\n",
              "      <td>NaN</td>\n",
              "      <td>01-07-2019</td>\n",
              "      <td>2024.0</td>\n",
              "      <td>LF</td>\n",
              "      <td>10.0</td>\n",
              "      <td>91.0</td>\n",
              "      <td>83.0</td>\n",
              "      <td>86.0</td>\n",
              "      <td>94.0</td>\n",
              "      <td>35.0</td>\n",
              "      <td>66.0</td>\n",
              "      <td>Beat Offside Trap, Selfish, Finesse Shot, Spee...</td>\n",
              "      <td>81</td>\n",
              "      <td>84</td>\n",
              "      <td>61</td>\n",
              "      <td>89</td>\n",
              "      <td>83</td>\n",
              "      <td>95</td>\n",
              "      <td>83</td>\n",
              "      <td>79</td>\n",
              "      <td>83</td>\n",
              "      <td>94</td>\n",
              "      <td>94</td>\n",
              "      <td>88</td>\n",
              "      <td>95</td>\n",
              "      <td>90</td>\n",
              "      <td>94</td>\n",
              "      <td>82</td>\n",
              "      <td>56</td>\n",
              "      <td>84</td>\n",
              "      <td>63</td>\n",
              "      <td>80</td>\n",
              "      <td>54</td>\n",
              "      <td>41</td>\n",
              "      <td>87</td>\n",
              "      <td>89</td>\n",
              "      <td>88</td>\n",
              "      <td>91</td>\n",
              "      <td>34</td>\n",
              "      <td>27</td>\n",
              "      <td>22</td>\n",
              "      <td>11</td>\n",
              "      <td>12</td>\n",
              "      <td>6</td>\n",
              "      <td>8</td>\n",
              "      <td>8</td>\n",
              "    </tr>\n",
              "  </tbody>\n",
              "</table>\n",
              "</div>"
            ],
            "text/plain": [
              "   sofifa_id  ... goalkeeping_reflexes\n",
              "0     158023  ...                    8\n",
              "1      20801  ...                   11\n",
              "2     190871  ...                   11\n",
              "3     200389  ...                   89\n",
              "4     183277  ...                    8\n",
              "\n",
              "[5 rows x 72 columns]"
            ]
          },
          "metadata": {
            "tags": []
          },
          "execution_count": 37
        }
      ]
    },
    {
      "cell_type": "code",
      "metadata": {
        "id": "U36C02igqtTo"
      },
      "source": [
        "# replacing null values with 0 , handling missing data\n",
        "df = df.fillna(value= 0)"
      ],
      "execution_count": 38,
      "outputs": []
    },
    {
      "cell_type": "code",
      "metadata": {
        "colab": {
          "base_uri": "https://localhost:8080/"
        },
        "id": "ssYUwrXot_sW",
        "outputId": "2ed63b59-e385-4293-f782-c34b206336fe"
      },
      "source": [
        "df.shape # This dataset contains 18278 rows and 72 columns"
      ],
      "execution_count": 39,
      "outputs": [
        {
          "output_type": "execute_result",
          "data": {
            "text/plain": [
              "(18278, 72)"
            ]
          },
          "metadata": {
            "tags": []
          },
          "execution_count": 39
        }
      ]
    },
    {
      "cell_type": "code",
      "metadata": {
        "colab": {
          "base_uri": "https://localhost:8080/"
        },
        "id": "wyt88dBmuzAp",
        "outputId": "1df094f9-d2c7-4089-ed07-2cbe4c9b8e00"
      },
      "source": [
        "print(df.columns)\n",
        "# to display all the attributesof the dataset"
      ],
      "execution_count": 40,
      "outputs": [
        {
          "output_type": "stream",
          "text": [
            "Index(['sofifa_id', 'player_url', 'short_name', 'long_name', 'age', 'dob',\n",
            "       'height_cm', 'weight_kg', 'nationality', 'club', 'overall', 'potential',\n",
            "       'value_eur', 'wage_eur', 'player_positions', 'preferred_foot',\n",
            "       'international_reputation', 'weak_foot', 'skill_moves', 'work_rate',\n",
            "       'body_type', 'real_face', 'release_clause_eur', 'player_tags',\n",
            "       'team_position', 'team_jersey_number', 'loaned_from', 'joined',\n",
            "       'contract_valid_until', 'nation_position', 'nation_jersey_number',\n",
            "       'pace', 'shooting', 'passing', 'dribbling', 'defending', 'physic',\n",
            "       'player_traits', 'attacking_crossing', 'attacking_finishing',\n",
            "       'attacking_heading_accuracy', 'attacking_short_passing',\n",
            "       'attacking_volleys', 'skill_dribbling', 'skill_curve',\n",
            "       'skill_fk_accuracy', 'skill_long_passing', 'skill_ball_control',\n",
            "       'movement_acceleration', 'movement_sprint_speed', 'movement_agility',\n",
            "       'movement_reactions', 'movement_balance', 'power_shot_power',\n",
            "       'power_jumping', 'power_stamina', 'power_strength', 'power_long_shots',\n",
            "       'mentality_aggression', 'mentality_interceptions',\n",
            "       'mentality_positioning', 'mentality_vision', 'mentality_penalties',\n",
            "       'mentality_composure', 'defending_marking', 'defending_standing_tackle',\n",
            "       'defending_sliding_tackle', 'goalkeeping_diving',\n",
            "       'goalkeeping_handling', 'goalkeeping_kicking',\n",
            "       'goalkeeping_positioning', 'goalkeeping_reflexes'],\n",
            "      dtype='object')\n"
          ],
          "name": "stdout"
        }
      ]
    },
    {
      "cell_type": "code",
      "metadata": {
        "colab": {
          "base_uri": "https://localhost:8080/"
        },
        "id": "exjWig7vvHwE",
        "outputId": "31031abb-7e66-487a-9fa5-a8e8c9334e95"
      },
      "source": [
        "df.info() #To display data type for each column in the dataset"
      ],
      "execution_count": 41,
      "outputs": [
        {
          "output_type": "stream",
          "text": [
            "<class 'pandas.core.frame.DataFrame'>\n",
            "RangeIndex: 18278 entries, 0 to 18277\n",
            "Data columns (total 72 columns):\n",
            " #   Column                      Non-Null Count  Dtype  \n",
            "---  ------                      --------------  -----  \n",
            " 0   sofifa_id                   18278 non-null  int64  \n",
            " 1   player_url                  18278 non-null  object \n",
            " 2   short_name                  18278 non-null  object \n",
            " 3   long_name                   18278 non-null  object \n",
            " 4   age                         18278 non-null  int64  \n",
            " 5   dob                         18278 non-null  object \n",
            " 6   height_cm                   18278 non-null  int64  \n",
            " 7   weight_kg                   18278 non-null  int64  \n",
            " 8   nationality                 18278 non-null  object \n",
            " 9   club                        18278 non-null  object \n",
            " 10  overall                     18278 non-null  int64  \n",
            " 11  potential                   18278 non-null  int64  \n",
            " 12  value_eur                   18278 non-null  int64  \n",
            " 13  wage_eur                    18278 non-null  int64  \n",
            " 14  player_positions            18278 non-null  object \n",
            " 15  preferred_foot              18278 non-null  object \n",
            " 16  international_reputation    18278 non-null  int64  \n",
            " 17  weak_foot                   18278 non-null  int64  \n",
            " 18  skill_moves                 18278 non-null  int64  \n",
            " 19  work_rate                   18278 non-null  object \n",
            " 20  body_type                   18278 non-null  object \n",
            " 21  real_face                   18278 non-null  object \n",
            " 22  release_clause_eur          18278 non-null  float64\n",
            " 23  player_tags                 18278 non-null  object \n",
            " 24  team_position               18278 non-null  object \n",
            " 25  team_jersey_number          18278 non-null  float64\n",
            " 26  loaned_from                 18278 non-null  object \n",
            " 27  joined                      18278 non-null  object \n",
            " 28  contract_valid_until        18278 non-null  float64\n",
            " 29  nation_position             18278 non-null  object \n",
            " 30  nation_jersey_number        18278 non-null  float64\n",
            " 31  pace                        18278 non-null  float64\n",
            " 32  shooting                    18278 non-null  float64\n",
            " 33  passing                     18278 non-null  float64\n",
            " 34  dribbling                   18278 non-null  float64\n",
            " 35  defending                   18278 non-null  float64\n",
            " 36  physic                      18278 non-null  float64\n",
            " 37  player_traits               18278 non-null  object \n",
            " 38  attacking_crossing          18278 non-null  int64  \n",
            " 39  attacking_finishing         18278 non-null  int64  \n",
            " 40  attacking_heading_accuracy  18278 non-null  int64  \n",
            " 41  attacking_short_passing     18278 non-null  int64  \n",
            " 42  attacking_volleys           18278 non-null  int64  \n",
            " 43  skill_dribbling             18278 non-null  int64  \n",
            " 44  skill_curve                 18278 non-null  int64  \n",
            " 45  skill_fk_accuracy           18278 non-null  int64  \n",
            " 46  skill_long_passing          18278 non-null  int64  \n",
            " 47  skill_ball_control          18278 non-null  int64  \n",
            " 48  movement_acceleration       18278 non-null  int64  \n",
            " 49  movement_sprint_speed       18278 non-null  int64  \n",
            " 50  movement_agility            18278 non-null  int64  \n",
            " 51  movement_reactions          18278 non-null  int64  \n",
            " 52  movement_balance            18278 non-null  int64  \n",
            " 53  power_shot_power            18278 non-null  int64  \n",
            " 54  power_jumping               18278 non-null  int64  \n",
            " 55  power_stamina               18278 non-null  int64  \n",
            " 56  power_strength              18278 non-null  int64  \n",
            " 57  power_long_shots            18278 non-null  int64  \n",
            " 58  mentality_aggression        18278 non-null  int64  \n",
            " 59  mentality_interceptions     18278 non-null  int64  \n",
            " 60  mentality_positioning       18278 non-null  int64  \n",
            " 61  mentality_vision            18278 non-null  int64  \n",
            " 62  mentality_penalties         18278 non-null  int64  \n",
            " 63  mentality_composure         18278 non-null  int64  \n",
            " 64  defending_marking           18278 non-null  int64  \n",
            " 65  defending_standing_tackle   18278 non-null  int64  \n",
            " 66  defending_sliding_tackle    18278 non-null  int64  \n",
            " 67  goalkeeping_diving          18278 non-null  int64  \n",
            " 68  goalkeeping_handling        18278 non-null  int64  \n",
            " 69  goalkeeping_kicking         18278 non-null  int64  \n",
            " 70  goalkeeping_positioning     18278 non-null  int64  \n",
            " 71  goalkeeping_reflexes        18278 non-null  int64  \n",
            "dtypes: float64(10), int64(45), object(17)\n",
            "memory usage: 10.0+ MB\n"
          ],
          "name": "stdout"
        }
      ]
    },
    {
      "cell_type": "code",
      "metadata": {
        "colab": {
          "base_uri": "https://localhost:8080/",
          "height": 319
        },
        "id": "XnEZskqsvRsk",
        "outputId": "c2cc9002-eaba-4591-ba4d-3fa6a75d4eca"
      },
      "source": [
        "df.describe()"
      ],
      "execution_count": 42,
      "outputs": [
        {
          "output_type": "execute_result",
          "data": {
            "text/html": [
              "<div>\n",
              "<style scoped>\n",
              "    .dataframe tbody tr th:only-of-type {\n",
              "        vertical-align: middle;\n",
              "    }\n",
              "\n",
              "    .dataframe tbody tr th {\n",
              "        vertical-align: top;\n",
              "    }\n",
              "\n",
              "    .dataframe thead th {\n",
              "        text-align: right;\n",
              "    }\n",
              "</style>\n",
              "<table border=\"1\" class=\"dataframe\">\n",
              "  <thead>\n",
              "    <tr style=\"text-align: right;\">\n",
              "      <th></th>\n",
              "      <th>sofifa_id</th>\n",
              "      <th>age</th>\n",
              "      <th>height_cm</th>\n",
              "      <th>weight_kg</th>\n",
              "      <th>overall</th>\n",
              "      <th>potential</th>\n",
              "      <th>value_eur</th>\n",
              "      <th>wage_eur</th>\n",
              "      <th>international_reputation</th>\n",
              "      <th>weak_foot</th>\n",
              "      <th>skill_moves</th>\n",
              "      <th>release_clause_eur</th>\n",
              "      <th>team_jersey_number</th>\n",
              "      <th>contract_valid_until</th>\n",
              "      <th>nation_jersey_number</th>\n",
              "      <th>pace</th>\n",
              "      <th>shooting</th>\n",
              "      <th>passing</th>\n",
              "      <th>dribbling</th>\n",
              "      <th>defending</th>\n",
              "      <th>physic</th>\n",
              "      <th>attacking_crossing</th>\n",
              "      <th>attacking_finishing</th>\n",
              "      <th>attacking_heading_accuracy</th>\n",
              "      <th>attacking_short_passing</th>\n",
              "      <th>attacking_volleys</th>\n",
              "      <th>skill_dribbling</th>\n",
              "      <th>skill_curve</th>\n",
              "      <th>skill_fk_accuracy</th>\n",
              "      <th>skill_long_passing</th>\n",
              "      <th>skill_ball_control</th>\n",
              "      <th>movement_acceleration</th>\n",
              "      <th>movement_sprint_speed</th>\n",
              "      <th>movement_agility</th>\n",
              "      <th>movement_reactions</th>\n",
              "      <th>movement_balance</th>\n",
              "      <th>power_shot_power</th>\n",
              "      <th>power_jumping</th>\n",
              "      <th>power_stamina</th>\n",
              "      <th>power_strength</th>\n",
              "      <th>power_long_shots</th>\n",
              "      <th>mentality_aggression</th>\n",
              "      <th>mentality_interceptions</th>\n",
              "      <th>mentality_positioning</th>\n",
              "      <th>mentality_vision</th>\n",
              "      <th>mentality_penalties</th>\n",
              "      <th>mentality_composure</th>\n",
              "      <th>defending_marking</th>\n",
              "      <th>defending_standing_tackle</th>\n",
              "      <th>defending_sliding_tackle</th>\n",
              "      <th>goalkeeping_diving</th>\n",
              "      <th>goalkeeping_handling</th>\n",
              "      <th>goalkeeping_kicking</th>\n",
              "      <th>goalkeeping_positioning</th>\n",
              "      <th>goalkeeping_reflexes</th>\n",
              "    </tr>\n",
              "  </thead>\n",
              "  <tbody>\n",
              "    <tr>\n",
              "      <th>count</th>\n",
              "      <td>18278.000000</td>\n",
              "      <td>18278.000000</td>\n",
              "      <td>18278.000000</td>\n",
              "      <td>18278.000000</td>\n",
              "      <td>18278.000000</td>\n",
              "      <td>18278.000000</td>\n",
              "      <td>1.827800e+04</td>\n",
              "      <td>18278.000000</td>\n",
              "      <td>18278.000000</td>\n",
              "      <td>18278.000000</td>\n",
              "      <td>18278.000000</td>\n",
              "      <td>1.827800e+04</td>\n",
              "      <td>18278.000000</td>\n",
              "      <td>18278.000000</td>\n",
              "      <td>18278.000000</td>\n",
              "      <td>18278.000000</td>\n",
              "      <td>18278.000000</td>\n",
              "      <td>18278.000000</td>\n",
              "      <td>18278.000000</td>\n",
              "      <td>18278.000000</td>\n",
              "      <td>18278.000000</td>\n",
              "      <td>18278.000000</td>\n",
              "      <td>18278.000000</td>\n",
              "      <td>18278.000000</td>\n",
              "      <td>18278.000000</td>\n",
              "      <td>18278.000000</td>\n",
              "      <td>18278.000000</td>\n",
              "      <td>18278.000000</td>\n",
              "      <td>18278.000000</td>\n",
              "      <td>18278.000000</td>\n",
              "      <td>18278.000000</td>\n",
              "      <td>18278.000000</td>\n",
              "      <td>18278.000000</td>\n",
              "      <td>18278.000000</td>\n",
              "      <td>18278.000000</td>\n",
              "      <td>18278.000000</td>\n",
              "      <td>18278.000000</td>\n",
              "      <td>18278.000000</td>\n",
              "      <td>18278.000000</td>\n",
              "      <td>18278.000000</td>\n",
              "      <td>18278.000000</td>\n",
              "      <td>18278.000000</td>\n",
              "      <td>18278.000000</td>\n",
              "      <td>18278.000000</td>\n",
              "      <td>18278.000000</td>\n",
              "      <td>18278.000000</td>\n",
              "      <td>18278.000000</td>\n",
              "      <td>18278.000000</td>\n",
              "      <td>18278.000000</td>\n",
              "      <td>18278.000000</td>\n",
              "      <td>18278.000000</td>\n",
              "      <td>18278.000000</td>\n",
              "      <td>18278.000000</td>\n",
              "      <td>18278.000000</td>\n",
              "      <td>18278.000000</td>\n",
              "    </tr>\n",
              "    <tr>\n",
              "      <th>mean</th>\n",
              "      <td>219738.864482</td>\n",
              "      <td>25.283291</td>\n",
              "      <td>181.362184</td>\n",
              "      <td>75.276343</td>\n",
              "      <td>66.244994</td>\n",
              "      <td>71.546887</td>\n",
              "      <td>2.484038e+06</td>\n",
              "      <td>9456.942773</td>\n",
              "      <td>1.103184</td>\n",
              "      <td>2.944250</td>\n",
              "      <td>2.368038</td>\n",
              "      <td>4.404059e+06</td>\n",
              "      <td>19.839917</td>\n",
              "      <td>1994.576267</td>\n",
              "      <td>0.746307</td>\n",
              "      <td>60.159645</td>\n",
              "      <td>46.472754</td>\n",
              "      <td>50.858464</td>\n",
              "      <td>55.566145</td>\n",
              "      <td>45.810920</td>\n",
              "      <td>57.650016</td>\n",
              "      <td>49.718405</td>\n",
              "      <td>45.590218</td>\n",
              "      <td>52.221468</td>\n",
              "      <td>58.748003</td>\n",
              "      <td>42.809388</td>\n",
              "      <td>55.596509</td>\n",
              "      <td>47.325692</td>\n",
              "      <td>42.708885</td>\n",
              "      <td>52.768848</td>\n",
              "      <td>58.461976</td>\n",
              "      <td>64.299923</td>\n",
              "      <td>64.415746</td>\n",
              "      <td>63.504924</td>\n",
              "      <td>61.752544</td>\n",
              "      <td>63.856439</td>\n",
              "      <td>58.181694</td>\n",
              "      <td>64.928165</td>\n",
              "      <td>62.889485</td>\n",
              "      <td>65.234763</td>\n",
              "      <td>46.812945</td>\n",
              "      <td>55.742149</td>\n",
              "      <td>46.380239</td>\n",
              "      <td>50.072163</td>\n",
              "      <td>53.609749</td>\n",
              "      <td>48.383357</td>\n",
              "      <td>58.528778</td>\n",
              "      <td>46.848889</td>\n",
              "      <td>47.640333</td>\n",
              "      <td>45.606631</td>\n",
              "      <td>16.572765</td>\n",
              "      <td>16.354853</td>\n",
              "      <td>16.212934</td>\n",
              "      <td>16.368038</td>\n",
              "      <td>16.709924</td>\n",
              "    </tr>\n",
              "    <tr>\n",
              "      <th>std</th>\n",
              "      <td>27960.200461</td>\n",
              "      <td>4.656964</td>\n",
              "      <td>6.756961</td>\n",
              "      <td>7.047744</td>\n",
              "      <td>6.949953</td>\n",
              "      <td>6.139669</td>\n",
              "      <td>5.585481e+06</td>\n",
              "      <td>21351.714095</td>\n",
              "      <td>0.378861</td>\n",
              "      <td>0.664656</td>\n",
              "      <td>0.765038</td>\n",
              "      <td>1.070065e+07</td>\n",
              "      <td>16.652277</td>\n",
              "      <td>230.080966</td>\n",
              "      <td>3.358197</td>\n",
              "      <td>23.814336</td>\n",
              "      <td>21.110257</td>\n",
              "      <td>20.506407</td>\n",
              "      <td>21.933090</td>\n",
              "      <td>22.419982</td>\n",
              "      <td>22.389483</td>\n",
              "      <td>18.325403</td>\n",
              "      <td>19.594609</td>\n",
              "      <td>17.428429</td>\n",
              "      <td>14.679653</td>\n",
              "      <td>17.701815</td>\n",
              "      <td>18.929118</td>\n",
              "      <td>18.422991</td>\n",
              "      <td>17.433612</td>\n",
              "      <td>15.246454</td>\n",
              "      <td>16.741878</td>\n",
              "      <td>15.042232</td>\n",
              "      <td>14.847763</td>\n",
              "      <td>14.808380</td>\n",
              "      <td>9.135613</td>\n",
              "      <td>14.201559</td>\n",
              "      <td>13.326083</td>\n",
              "      <td>11.934059</td>\n",
              "      <td>16.017954</td>\n",
              "      <td>12.534811</td>\n",
              "      <td>19.322343</td>\n",
              "      <td>17.318157</td>\n",
              "      <td>20.775812</td>\n",
              "      <td>19.594022</td>\n",
              "      <td>13.955626</td>\n",
              "      <td>15.708099</td>\n",
              "      <td>11.880840</td>\n",
              "      <td>20.091287</td>\n",
              "      <td>21.585641</td>\n",
              "      <td>21.217734</td>\n",
              "      <td>17.738069</td>\n",
              "      <td>16.996925</td>\n",
              "      <td>16.613665</td>\n",
              "      <td>17.136497</td>\n",
              "      <td>18.038125</td>\n",
              "    </tr>\n",
              "    <tr>\n",
              "      <th>min</th>\n",
              "      <td>768.000000</td>\n",
              "      <td>16.000000</td>\n",
              "      <td>156.000000</td>\n",
              "      <td>50.000000</td>\n",
              "      <td>48.000000</td>\n",
              "      <td>49.000000</td>\n",
              "      <td>0.000000e+00</td>\n",
              "      <td>0.000000</td>\n",
              "      <td>1.000000</td>\n",
              "      <td>1.000000</td>\n",
              "      <td>1.000000</td>\n",
              "      <td>0.000000e+00</td>\n",
              "      <td>0.000000</td>\n",
              "      <td>0.000000</td>\n",
              "      <td>0.000000</td>\n",
              "      <td>0.000000</td>\n",
              "      <td>0.000000</td>\n",
              "      <td>0.000000</td>\n",
              "      <td>0.000000</td>\n",
              "      <td>0.000000</td>\n",
              "      <td>0.000000</td>\n",
              "      <td>5.000000</td>\n",
              "      <td>2.000000</td>\n",
              "      <td>5.000000</td>\n",
              "      <td>7.000000</td>\n",
              "      <td>3.000000</td>\n",
              "      <td>4.000000</td>\n",
              "      <td>6.000000</td>\n",
              "      <td>4.000000</td>\n",
              "      <td>8.000000</td>\n",
              "      <td>5.000000</td>\n",
              "      <td>12.000000</td>\n",
              "      <td>11.000000</td>\n",
              "      <td>11.000000</td>\n",
              "      <td>21.000000</td>\n",
              "      <td>12.000000</td>\n",
              "      <td>14.000000</td>\n",
              "      <td>19.000000</td>\n",
              "      <td>12.000000</td>\n",
              "      <td>20.000000</td>\n",
              "      <td>4.000000</td>\n",
              "      <td>9.000000</td>\n",
              "      <td>3.000000</td>\n",
              "      <td>2.000000</td>\n",
              "      <td>9.000000</td>\n",
              "      <td>7.000000</td>\n",
              "      <td>12.000000</td>\n",
              "      <td>1.000000</td>\n",
              "      <td>5.000000</td>\n",
              "      <td>3.000000</td>\n",
              "      <td>1.000000</td>\n",
              "      <td>1.000000</td>\n",
              "      <td>1.000000</td>\n",
              "      <td>1.000000</td>\n",
              "      <td>1.000000</td>\n",
              "    </tr>\n",
              "    <tr>\n",
              "      <th>25%</th>\n",
              "      <td>204445.500000</td>\n",
              "      <td>22.000000</td>\n",
              "      <td>177.000000</td>\n",
              "      <td>70.000000</td>\n",
              "      <td>62.000000</td>\n",
              "      <td>67.000000</td>\n",
              "      <td>3.250000e+05</td>\n",
              "      <td>1000.000000</td>\n",
              "      <td>1.000000</td>\n",
              "      <td>3.000000</td>\n",
              "      <td>2.000000</td>\n",
              "      <td>4.350000e+05</td>\n",
              "      <td>8.000000</td>\n",
              "      <td>2020.000000</td>\n",
              "      <td>0.000000</td>\n",
              "      <td>57.000000</td>\n",
              "      <td>35.000000</td>\n",
              "      <td>46.000000</td>\n",
              "      <td>53.000000</td>\n",
              "      <td>31.000000</td>\n",
              "      <td>55.000000</td>\n",
              "      <td>38.000000</td>\n",
              "      <td>30.000000</td>\n",
              "      <td>44.000000</td>\n",
              "      <td>54.000000</td>\n",
              "      <td>30.000000</td>\n",
              "      <td>50.000000</td>\n",
              "      <td>34.000000</td>\n",
              "      <td>31.000000</td>\n",
              "      <td>43.000000</td>\n",
              "      <td>54.000000</td>\n",
              "      <td>56.000000</td>\n",
              "      <td>57.000000</td>\n",
              "      <td>55.000000</td>\n",
              "      <td>56.000000</td>\n",
              "      <td>56.000000</td>\n",
              "      <td>48.000000</td>\n",
              "      <td>58.000000</td>\n",
              "      <td>56.000000</td>\n",
              "      <td>58.000000</td>\n",
              "      <td>32.000000</td>\n",
              "      <td>44.000000</td>\n",
              "      <td>25.000000</td>\n",
              "      <td>39.000000</td>\n",
              "      <td>44.000000</td>\n",
              "      <td>39.000000</td>\n",
              "      <td>51.000000</td>\n",
              "      <td>29.000000</td>\n",
              "      <td>27.000000</td>\n",
              "      <td>24.000000</td>\n",
              "      <td>8.000000</td>\n",
              "      <td>8.000000</td>\n",
              "      <td>8.000000</td>\n",
              "      <td>8.000000</td>\n",
              "      <td>8.000000</td>\n",
              "    </tr>\n",
              "    <tr>\n",
              "      <th>50%</th>\n",
              "      <td>226165.000000</td>\n",
              "      <td>25.000000</td>\n",
              "      <td>181.000000</td>\n",
              "      <td>75.000000</td>\n",
              "      <td>66.000000</td>\n",
              "      <td>71.000000</td>\n",
              "      <td>7.000000e+05</td>\n",
              "      <td>3000.000000</td>\n",
              "      <td>1.000000</td>\n",
              "      <td>3.000000</td>\n",
              "      <td>2.000000</td>\n",
              "      <td>1.100000e+06</td>\n",
              "      <td>17.000000</td>\n",
              "      <td>2021.000000</td>\n",
              "      <td>0.000000</td>\n",
              "      <td>67.000000</td>\n",
              "      <td>52.000000</td>\n",
              "      <td>56.000000</td>\n",
              "      <td>62.000000</td>\n",
              "      <td>52.000000</td>\n",
              "      <td>64.000000</td>\n",
              "      <td>54.000000</td>\n",
              "      <td>49.000000</td>\n",
              "      <td>56.000000</td>\n",
              "      <td>62.000000</td>\n",
              "      <td>44.000000</td>\n",
              "      <td>61.000000</td>\n",
              "      <td>49.000000</td>\n",
              "      <td>41.000000</td>\n",
              "      <td>56.000000</td>\n",
              "      <td>63.000000</td>\n",
              "      <td>67.000000</td>\n",
              "      <td>67.000000</td>\n",
              "      <td>66.000000</td>\n",
              "      <td>62.000000</td>\n",
              "      <td>66.000000</td>\n",
              "      <td>59.000000</td>\n",
              "      <td>66.000000</td>\n",
              "      <td>66.000000</td>\n",
              "      <td>66.000000</td>\n",
              "      <td>51.000000</td>\n",
              "      <td>58.000000</td>\n",
              "      <td>52.000000</td>\n",
              "      <td>55.000000</td>\n",
              "      <td>55.000000</td>\n",
              "      <td>49.000000</td>\n",
              "      <td>60.000000</td>\n",
              "      <td>52.000000</td>\n",
              "      <td>55.000000</td>\n",
              "      <td>52.000000</td>\n",
              "      <td>11.000000</td>\n",
              "      <td>11.000000</td>\n",
              "      <td>11.000000</td>\n",
              "      <td>11.000000</td>\n",
              "      <td>11.000000</td>\n",
              "    </tr>\n",
              "    <tr>\n",
              "      <th>75%</th>\n",
              "      <td>240795.750000</td>\n",
              "      <td>29.000000</td>\n",
              "      <td>186.000000</td>\n",
              "      <td>80.000000</td>\n",
              "      <td>71.000000</td>\n",
              "      <td>75.000000</td>\n",
              "      <td>2.100000e+06</td>\n",
              "      <td>8000.000000</td>\n",
              "      <td>1.000000</td>\n",
              "      <td>3.000000</td>\n",
              "      <td>3.000000</td>\n",
              "      <td>3.200000e+06</td>\n",
              "      <td>27.000000</td>\n",
              "      <td>2022.000000</td>\n",
              "      <td>0.000000</td>\n",
              "      <td>74.000000</td>\n",
              "      <td>62.000000</td>\n",
              "      <td>63.000000</td>\n",
              "      <td>69.000000</td>\n",
              "      <td>64.000000</td>\n",
              "      <td>71.000000</td>\n",
              "      <td>64.000000</td>\n",
              "      <td>62.000000</td>\n",
              "      <td>64.000000</td>\n",
              "      <td>68.000000</td>\n",
              "      <td>56.000000</td>\n",
              "      <td>68.000000</td>\n",
              "      <td>62.000000</td>\n",
              "      <td>56.000000</td>\n",
              "      <td>64.000000</td>\n",
              "      <td>69.000000</td>\n",
              "      <td>75.000000</td>\n",
              "      <td>75.000000</td>\n",
              "      <td>74.000000</td>\n",
              "      <td>68.000000</td>\n",
              "      <td>74.000000</td>\n",
              "      <td>68.000000</td>\n",
              "      <td>73.000000</td>\n",
              "      <td>74.000000</td>\n",
              "      <td>74.000000</td>\n",
              "      <td>62.000000</td>\n",
              "      <td>69.000000</td>\n",
              "      <td>64.000000</td>\n",
              "      <td>64.000000</td>\n",
              "      <td>64.000000</td>\n",
              "      <td>60.000000</td>\n",
              "      <td>67.000000</td>\n",
              "      <td>64.000000</td>\n",
              "      <td>66.000000</td>\n",
              "      <td>64.000000</td>\n",
              "      <td>14.000000</td>\n",
              "      <td>14.000000</td>\n",
              "      <td>14.000000</td>\n",
              "      <td>14.000000</td>\n",
              "      <td>14.000000</td>\n",
              "    </tr>\n",
              "    <tr>\n",
              "      <th>max</th>\n",
              "      <td>252905.000000</td>\n",
              "      <td>42.000000</td>\n",
              "      <td>205.000000</td>\n",
              "      <td>110.000000</td>\n",
              "      <td>94.000000</td>\n",
              "      <td>95.000000</td>\n",
              "      <td>1.055000e+08</td>\n",
              "      <td>565000.000000</td>\n",
              "      <td>5.000000</td>\n",
              "      <td>5.000000</td>\n",
              "      <td>5.000000</td>\n",
              "      <td>1.958000e+08</td>\n",
              "      <td>99.000000</td>\n",
              "      <td>2026.000000</td>\n",
              "      <td>30.000000</td>\n",
              "      <td>96.000000</td>\n",
              "      <td>93.000000</td>\n",
              "      <td>92.000000</td>\n",
              "      <td>96.000000</td>\n",
              "      <td>90.000000</td>\n",
              "      <td>90.000000</td>\n",
              "      <td>93.000000</td>\n",
              "      <td>95.000000</td>\n",
              "      <td>93.000000</td>\n",
              "      <td>92.000000</td>\n",
              "      <td>90.000000</td>\n",
              "      <td>97.000000</td>\n",
              "      <td>94.000000</td>\n",
              "      <td>94.000000</td>\n",
              "      <td>92.000000</td>\n",
              "      <td>96.000000</td>\n",
              "      <td>97.000000</td>\n",
              "      <td>96.000000</td>\n",
              "      <td>96.000000</td>\n",
              "      <td>96.000000</td>\n",
              "      <td>97.000000</td>\n",
              "      <td>95.000000</td>\n",
              "      <td>95.000000</td>\n",
              "      <td>97.000000</td>\n",
              "      <td>97.000000</td>\n",
              "      <td>94.000000</td>\n",
              "      <td>95.000000</td>\n",
              "      <td>92.000000</td>\n",
              "      <td>95.000000</td>\n",
              "      <td>94.000000</td>\n",
              "      <td>92.000000</td>\n",
              "      <td>96.000000</td>\n",
              "      <td>94.000000</td>\n",
              "      <td>92.000000</td>\n",
              "      <td>90.000000</td>\n",
              "      <td>90.000000</td>\n",
              "      <td>92.000000</td>\n",
              "      <td>93.000000</td>\n",
              "      <td>91.000000</td>\n",
              "      <td>92.000000</td>\n",
              "    </tr>\n",
              "  </tbody>\n",
              "</table>\n",
              "</div>"
            ],
            "text/plain": [
              "           sofifa_id  ...  goalkeeping_reflexes\n",
              "count   18278.000000  ...          18278.000000\n",
              "mean   219738.864482  ...             16.709924\n",
              "std     27960.200461  ...             18.038125\n",
              "min       768.000000  ...              1.000000\n",
              "25%    204445.500000  ...              8.000000\n",
              "50%    226165.000000  ...             11.000000\n",
              "75%    240795.750000  ...             14.000000\n",
              "max    252905.000000  ...             92.000000\n",
              "\n",
              "[8 rows x 55 columns]"
            ]
          },
          "metadata": {
            "tags": []
          },
          "execution_count": 42
        }
      ]
    },
    {
      "cell_type": "markdown",
      "metadata": {
        "id": "SndVjBM0321x"
      },
      "source": [
        "We can make the following observations:\n",
        "\n",
        "* outliers in columns like age, value_eur, wage_eur, international_reputation, etc\n",
        "* All features have different value scales."
      ]
    },
    {
      "cell_type": "markdown",
      "metadata": {
        "id": "qodmCkoTwV3x"
      },
      "source": [
        "### **Cleaning data**"
      ]
    },
    {
      "cell_type": "code",
      "metadata": {
        "colab": {
          "base_uri": "https://localhost:8080/",
          "height": 484
        },
        "id": "QHD5kLmFwX4C",
        "outputId": "62c960b5-73eb-4aa0-8ebe-048e0bdcb940"
      },
      "source": [
        "# Retaining only usefull columns that will have large impact on analysis\n",
        "columns_to_be_removed = ['dob','sofifa_id','player_url','long_name','body_type','real_face','nation_position','loaned_from','nation_jersey_number']\n",
        "df=df.drop(columns_to_be_removed,axis=1)\n",
        "df.head()"
      ],
      "execution_count": 43,
      "outputs": [
        {
          "output_type": "execute_result",
          "data": {
            "text/html": [
              "<div>\n",
              "<style scoped>\n",
              "    .dataframe tbody tr th:only-of-type {\n",
              "        vertical-align: middle;\n",
              "    }\n",
              "\n",
              "    .dataframe tbody tr th {\n",
              "        vertical-align: top;\n",
              "    }\n",
              "\n",
              "    .dataframe thead th {\n",
              "        text-align: right;\n",
              "    }\n",
              "</style>\n",
              "<table border=\"1\" class=\"dataframe\">\n",
              "  <thead>\n",
              "    <tr style=\"text-align: right;\">\n",
              "      <th></th>\n",
              "      <th>short_name</th>\n",
              "      <th>age</th>\n",
              "      <th>height_cm</th>\n",
              "      <th>weight_kg</th>\n",
              "      <th>nationality</th>\n",
              "      <th>club</th>\n",
              "      <th>overall</th>\n",
              "      <th>potential</th>\n",
              "      <th>value_eur</th>\n",
              "      <th>wage_eur</th>\n",
              "      <th>player_positions</th>\n",
              "      <th>preferred_foot</th>\n",
              "      <th>international_reputation</th>\n",
              "      <th>weak_foot</th>\n",
              "      <th>skill_moves</th>\n",
              "      <th>work_rate</th>\n",
              "      <th>release_clause_eur</th>\n",
              "      <th>player_tags</th>\n",
              "      <th>team_position</th>\n",
              "      <th>team_jersey_number</th>\n",
              "      <th>joined</th>\n",
              "      <th>contract_valid_until</th>\n",
              "      <th>pace</th>\n",
              "      <th>shooting</th>\n",
              "      <th>passing</th>\n",
              "      <th>dribbling</th>\n",
              "      <th>defending</th>\n",
              "      <th>physic</th>\n",
              "      <th>player_traits</th>\n",
              "      <th>attacking_crossing</th>\n",
              "      <th>attacking_finishing</th>\n",
              "      <th>attacking_heading_accuracy</th>\n",
              "      <th>attacking_short_passing</th>\n",
              "      <th>attacking_volleys</th>\n",
              "      <th>skill_dribbling</th>\n",
              "      <th>skill_curve</th>\n",
              "      <th>skill_fk_accuracy</th>\n",
              "      <th>skill_long_passing</th>\n",
              "      <th>skill_ball_control</th>\n",
              "      <th>movement_acceleration</th>\n",
              "      <th>movement_sprint_speed</th>\n",
              "      <th>movement_agility</th>\n",
              "      <th>movement_reactions</th>\n",
              "      <th>movement_balance</th>\n",
              "      <th>power_shot_power</th>\n",
              "      <th>power_jumping</th>\n",
              "      <th>power_stamina</th>\n",
              "      <th>power_strength</th>\n",
              "      <th>power_long_shots</th>\n",
              "      <th>mentality_aggression</th>\n",
              "      <th>mentality_interceptions</th>\n",
              "      <th>mentality_positioning</th>\n",
              "      <th>mentality_vision</th>\n",
              "      <th>mentality_penalties</th>\n",
              "      <th>mentality_composure</th>\n",
              "      <th>defending_marking</th>\n",
              "      <th>defending_standing_tackle</th>\n",
              "      <th>defending_sliding_tackle</th>\n",
              "      <th>goalkeeping_diving</th>\n",
              "      <th>goalkeeping_handling</th>\n",
              "      <th>goalkeeping_kicking</th>\n",
              "      <th>goalkeeping_positioning</th>\n",
              "      <th>goalkeeping_reflexes</th>\n",
              "    </tr>\n",
              "  </thead>\n",
              "  <tbody>\n",
              "    <tr>\n",
              "      <th>0</th>\n",
              "      <td>L. Messi</td>\n",
              "      <td>32</td>\n",
              "      <td>170</td>\n",
              "      <td>72</td>\n",
              "      <td>Argentina</td>\n",
              "      <td>FC Barcelona</td>\n",
              "      <td>94</td>\n",
              "      <td>94</td>\n",
              "      <td>95500000</td>\n",
              "      <td>565000</td>\n",
              "      <td>RW, CF, ST</td>\n",
              "      <td>Left</td>\n",
              "      <td>5</td>\n",
              "      <td>4</td>\n",
              "      <td>4</td>\n",
              "      <td>Medium/Low</td>\n",
              "      <td>195800000.0</td>\n",
              "      <td>#Dribbler, #Distance Shooter, #Crosser, #FK Sp...</td>\n",
              "      <td>RW</td>\n",
              "      <td>10.0</td>\n",
              "      <td>01-07-2004</td>\n",
              "      <td>2021.0</td>\n",
              "      <td>87.0</td>\n",
              "      <td>92.0</td>\n",
              "      <td>92.0</td>\n",
              "      <td>96.0</td>\n",
              "      <td>39.0</td>\n",
              "      <td>66.0</td>\n",
              "      <td>Beat Offside Trap, Argues with Officials, Earl...</td>\n",
              "      <td>88</td>\n",
              "      <td>95</td>\n",
              "      <td>70</td>\n",
              "      <td>92</td>\n",
              "      <td>88</td>\n",
              "      <td>97</td>\n",
              "      <td>93</td>\n",
              "      <td>94</td>\n",
              "      <td>92</td>\n",
              "      <td>96</td>\n",
              "      <td>91</td>\n",
              "      <td>84</td>\n",
              "      <td>93</td>\n",
              "      <td>95</td>\n",
              "      <td>95</td>\n",
              "      <td>86</td>\n",
              "      <td>68</td>\n",
              "      <td>75</td>\n",
              "      <td>68</td>\n",
              "      <td>94</td>\n",
              "      <td>48</td>\n",
              "      <td>40</td>\n",
              "      <td>94</td>\n",
              "      <td>94</td>\n",
              "      <td>75</td>\n",
              "      <td>96</td>\n",
              "      <td>33</td>\n",
              "      <td>37</td>\n",
              "      <td>26</td>\n",
              "      <td>6</td>\n",
              "      <td>11</td>\n",
              "      <td>15</td>\n",
              "      <td>14</td>\n",
              "      <td>8</td>\n",
              "    </tr>\n",
              "    <tr>\n",
              "      <th>1</th>\n",
              "      <td>Cristiano Ronaldo</td>\n",
              "      <td>34</td>\n",
              "      <td>187</td>\n",
              "      <td>83</td>\n",
              "      <td>Portugal</td>\n",
              "      <td>Juventus</td>\n",
              "      <td>93</td>\n",
              "      <td>93</td>\n",
              "      <td>58500000</td>\n",
              "      <td>405000</td>\n",
              "      <td>ST, LW</td>\n",
              "      <td>Right</td>\n",
              "      <td>5</td>\n",
              "      <td>4</td>\n",
              "      <td>5</td>\n",
              "      <td>High/Low</td>\n",
              "      <td>96500000.0</td>\n",
              "      <td>#Speedster, #Dribbler, #Distance Shooter, #Acr...</td>\n",
              "      <td>LW</td>\n",
              "      <td>7.0</td>\n",
              "      <td>10-07-2018</td>\n",
              "      <td>2022.0</td>\n",
              "      <td>90.0</td>\n",
              "      <td>93.0</td>\n",
              "      <td>82.0</td>\n",
              "      <td>89.0</td>\n",
              "      <td>35.0</td>\n",
              "      <td>78.0</td>\n",
              "      <td>Long Throw-in, Selfish, Argues with Officials,...</td>\n",
              "      <td>84</td>\n",
              "      <td>94</td>\n",
              "      <td>89</td>\n",
              "      <td>83</td>\n",
              "      <td>87</td>\n",
              "      <td>89</td>\n",
              "      <td>81</td>\n",
              "      <td>76</td>\n",
              "      <td>77</td>\n",
              "      <td>92</td>\n",
              "      <td>89</td>\n",
              "      <td>91</td>\n",
              "      <td>87</td>\n",
              "      <td>96</td>\n",
              "      <td>71</td>\n",
              "      <td>95</td>\n",
              "      <td>95</td>\n",
              "      <td>85</td>\n",
              "      <td>78</td>\n",
              "      <td>93</td>\n",
              "      <td>63</td>\n",
              "      <td>29</td>\n",
              "      <td>95</td>\n",
              "      <td>82</td>\n",
              "      <td>85</td>\n",
              "      <td>95</td>\n",
              "      <td>28</td>\n",
              "      <td>32</td>\n",
              "      <td>24</td>\n",
              "      <td>7</td>\n",
              "      <td>11</td>\n",
              "      <td>15</td>\n",
              "      <td>14</td>\n",
              "      <td>11</td>\n",
              "    </tr>\n",
              "    <tr>\n",
              "      <th>2</th>\n",
              "      <td>Neymar Jr</td>\n",
              "      <td>27</td>\n",
              "      <td>175</td>\n",
              "      <td>68</td>\n",
              "      <td>Brazil</td>\n",
              "      <td>Paris Saint-Germain</td>\n",
              "      <td>92</td>\n",
              "      <td>92</td>\n",
              "      <td>105500000</td>\n",
              "      <td>290000</td>\n",
              "      <td>LW, CAM</td>\n",
              "      <td>Right</td>\n",
              "      <td>5</td>\n",
              "      <td>5</td>\n",
              "      <td>5</td>\n",
              "      <td>High/Medium</td>\n",
              "      <td>195200000.0</td>\n",
              "      <td>#Speedster, #Dribbler, #Playmaker  , #Crosser,...</td>\n",
              "      <td>CAM</td>\n",
              "      <td>10.0</td>\n",
              "      <td>03-08-2017</td>\n",
              "      <td>2022.0</td>\n",
              "      <td>91.0</td>\n",
              "      <td>85.0</td>\n",
              "      <td>87.0</td>\n",
              "      <td>95.0</td>\n",
              "      <td>32.0</td>\n",
              "      <td>58.0</td>\n",
              "      <td>Power Free-Kick, Injury Free, Selfish, Early C...</td>\n",
              "      <td>87</td>\n",
              "      <td>87</td>\n",
              "      <td>62</td>\n",
              "      <td>87</td>\n",
              "      <td>87</td>\n",
              "      <td>96</td>\n",
              "      <td>88</td>\n",
              "      <td>87</td>\n",
              "      <td>81</td>\n",
              "      <td>95</td>\n",
              "      <td>94</td>\n",
              "      <td>89</td>\n",
              "      <td>96</td>\n",
              "      <td>92</td>\n",
              "      <td>84</td>\n",
              "      <td>80</td>\n",
              "      <td>61</td>\n",
              "      <td>81</td>\n",
              "      <td>49</td>\n",
              "      <td>84</td>\n",
              "      <td>51</td>\n",
              "      <td>36</td>\n",
              "      <td>87</td>\n",
              "      <td>90</td>\n",
              "      <td>90</td>\n",
              "      <td>94</td>\n",
              "      <td>27</td>\n",
              "      <td>26</td>\n",
              "      <td>29</td>\n",
              "      <td>9</td>\n",
              "      <td>9</td>\n",
              "      <td>15</td>\n",
              "      <td>15</td>\n",
              "      <td>11</td>\n",
              "    </tr>\n",
              "    <tr>\n",
              "      <th>3</th>\n",
              "      <td>J. Oblak</td>\n",
              "      <td>26</td>\n",
              "      <td>188</td>\n",
              "      <td>87</td>\n",
              "      <td>Slovenia</td>\n",
              "      <td>Atlético Madrid</td>\n",
              "      <td>91</td>\n",
              "      <td>93</td>\n",
              "      <td>77500000</td>\n",
              "      <td>125000</td>\n",
              "      <td>GK</td>\n",
              "      <td>Right</td>\n",
              "      <td>3</td>\n",
              "      <td>3</td>\n",
              "      <td>1</td>\n",
              "      <td>Medium/Medium</td>\n",
              "      <td>164700000.0</td>\n",
              "      <td>0</td>\n",
              "      <td>GK</td>\n",
              "      <td>13.0</td>\n",
              "      <td>16-07-2014</td>\n",
              "      <td>2023.0</td>\n",
              "      <td>0.0</td>\n",
              "      <td>0.0</td>\n",
              "      <td>0.0</td>\n",
              "      <td>0.0</td>\n",
              "      <td>0.0</td>\n",
              "      <td>0.0</td>\n",
              "      <td>Flair, Acrobatic Clearance</td>\n",
              "      <td>13</td>\n",
              "      <td>11</td>\n",
              "      <td>15</td>\n",
              "      <td>43</td>\n",
              "      <td>13</td>\n",
              "      <td>12</td>\n",
              "      <td>13</td>\n",
              "      <td>14</td>\n",
              "      <td>40</td>\n",
              "      <td>30</td>\n",
              "      <td>43</td>\n",
              "      <td>60</td>\n",
              "      <td>67</td>\n",
              "      <td>88</td>\n",
              "      <td>49</td>\n",
              "      <td>59</td>\n",
              "      <td>78</td>\n",
              "      <td>41</td>\n",
              "      <td>78</td>\n",
              "      <td>12</td>\n",
              "      <td>34</td>\n",
              "      <td>19</td>\n",
              "      <td>11</td>\n",
              "      <td>65</td>\n",
              "      <td>11</td>\n",
              "      <td>68</td>\n",
              "      <td>27</td>\n",
              "      <td>12</td>\n",
              "      <td>18</td>\n",
              "      <td>87</td>\n",
              "      <td>92</td>\n",
              "      <td>78</td>\n",
              "      <td>90</td>\n",
              "      <td>89</td>\n",
              "    </tr>\n",
              "    <tr>\n",
              "      <th>4</th>\n",
              "      <td>E. Hazard</td>\n",
              "      <td>28</td>\n",
              "      <td>175</td>\n",
              "      <td>74</td>\n",
              "      <td>Belgium</td>\n",
              "      <td>Real Madrid</td>\n",
              "      <td>91</td>\n",
              "      <td>91</td>\n",
              "      <td>90000000</td>\n",
              "      <td>470000</td>\n",
              "      <td>LW, CF</td>\n",
              "      <td>Right</td>\n",
              "      <td>4</td>\n",
              "      <td>4</td>\n",
              "      <td>4</td>\n",
              "      <td>High/Medium</td>\n",
              "      <td>184500000.0</td>\n",
              "      <td>#Speedster, #Dribbler, #Acrobat</td>\n",
              "      <td>LW</td>\n",
              "      <td>7.0</td>\n",
              "      <td>01-07-2019</td>\n",
              "      <td>2024.0</td>\n",
              "      <td>91.0</td>\n",
              "      <td>83.0</td>\n",
              "      <td>86.0</td>\n",
              "      <td>94.0</td>\n",
              "      <td>35.0</td>\n",
              "      <td>66.0</td>\n",
              "      <td>Beat Offside Trap, Selfish, Finesse Shot, Spee...</td>\n",
              "      <td>81</td>\n",
              "      <td>84</td>\n",
              "      <td>61</td>\n",
              "      <td>89</td>\n",
              "      <td>83</td>\n",
              "      <td>95</td>\n",
              "      <td>83</td>\n",
              "      <td>79</td>\n",
              "      <td>83</td>\n",
              "      <td>94</td>\n",
              "      <td>94</td>\n",
              "      <td>88</td>\n",
              "      <td>95</td>\n",
              "      <td>90</td>\n",
              "      <td>94</td>\n",
              "      <td>82</td>\n",
              "      <td>56</td>\n",
              "      <td>84</td>\n",
              "      <td>63</td>\n",
              "      <td>80</td>\n",
              "      <td>54</td>\n",
              "      <td>41</td>\n",
              "      <td>87</td>\n",
              "      <td>89</td>\n",
              "      <td>88</td>\n",
              "      <td>91</td>\n",
              "      <td>34</td>\n",
              "      <td>27</td>\n",
              "      <td>22</td>\n",
              "      <td>11</td>\n",
              "      <td>12</td>\n",
              "      <td>6</td>\n",
              "      <td>8</td>\n",
              "      <td>8</td>\n",
              "    </tr>\n",
              "  </tbody>\n",
              "</table>\n",
              "</div>"
            ],
            "text/plain": [
              "          short_name  age  ...  goalkeeping_positioning  goalkeeping_reflexes\n",
              "0           L. Messi   32  ...                       14                     8\n",
              "1  Cristiano Ronaldo   34  ...                       14                    11\n",
              "2          Neymar Jr   27  ...                       15                    11\n",
              "3           J. Oblak   26  ...                       90                    89\n",
              "4          E. Hazard   28  ...                        8                     8\n",
              "\n",
              "[5 rows x 63 columns]"
            ]
          },
          "metadata": {
            "tags": []
          },
          "execution_count": 43
        }
      ]
    },
    {
      "cell_type": "markdown",
      "metadata": {
        "id": "XdJiwzJhxNkD"
      },
      "source": [
        "## **Data visualization**"
      ]
    },
    {
      "cell_type": "code",
      "metadata": {
        "colab": {
          "base_uri": "https://localhost:8080/",
          "height": 845
        },
        "id": "vB3NTE424Omp",
        "outputId": "363094d6-8f78-44cf-e879-6e50d0e35a7e"
      },
      "source": [
        "numeric_features = ['age','height_cm','weight_kg','overall','potential','value_eur',\n",
        "                 'wage_eur','international_reputation','weak_foot',\n",
        "                 'skill_moves','release_clause_eur']\n",
        "\n",
        "# histograms of numerical features\n",
        "df[numeric_features].hist(bins='auto', figsize=(14, 10))"
      ],
      "execution_count": 44,
      "outputs": [
        {
          "output_type": "execute_result",
          "data": {
            "text/plain": [
              "array([[<matplotlib.axes._subplots.AxesSubplot object at 0x7fd555160b10>,\n",
              "        <matplotlib.axes._subplots.AxesSubplot object at 0x7fd5551b6110>,\n",
              "        <matplotlib.axes._subplots.AxesSubplot object at 0x7fd55518b610>],\n",
              "       [<matplotlib.axes._subplots.AxesSubplot object at 0x7fd55513cc90>,\n",
              "        <matplotlib.axes._subplots.AxesSubplot object at 0x7fd5550f9350>,\n",
              "        <matplotlib.axes._subplots.AxesSubplot object at 0x7fd5550ad9d0>],\n",
              "       [<matplotlib.axes._subplots.AxesSubplot object at 0x7fd55506f090>,\n",
              "        <matplotlib.axes._subplots.AxesSubplot object at 0x7fd555026710>,\n",
              "        <matplotlib.axes._subplots.AxesSubplot object at 0x7fd5550307d0>],\n",
              "       [<matplotlib.axes._subplots.AxesSubplot object at 0x7fd554fe6ed0>,\n",
              "        <matplotlib.axes._subplots.AxesSubplot object at 0x7fd554f52ad0>,\n",
              "        <matplotlib.axes._subplots.AxesSubplot object at 0x7fd554f15190>]],\n",
              "      dtype=object)"
            ]
          },
          "metadata": {
            "tags": []
          },
          "execution_count": 44
        },
        {
          "output_type": "display_data",
          "data": {
            "image/png": "[encoded data removed]",
            "text/plain": [
              "<Figure size 1008x720 with 12 Axes>"
            ]
          },
          "metadata": {
            "tags": [],
            "needs_background": "light"
          }
        }
      ]
    },
    {
      "cell_type": "markdown",
      "metadata": {
        "id": "J1HHMDYN4gwd"
      },
      "source": [
        "So, we can see that\n",
        "\n",
        "* max players are from the age group 20-25.\n",
        "* maximum and patterns of other features can be seen in the histograms too.\n",
        "* frequency plots of value_eur and wage_eur is highly skewed.\n",
        "* international_reputation, skill_moves and weak_foot have categorical values.\n",
        "* all other features have discrete values"
      ]
    },
    {
      "cell_type": "code",
      "metadata": {
        "colab": {
          "base_uri": "https://localhost:8080/",
          "height": 501
        },
        "id": "_Ch76Nt6PY7M",
        "outputId": "a50caa72-3f58-4078-e0a6-f52ec7abb4f4"
      },
      "source": [
        "# histogram\n",
        "# Effect of age on overall rating\n",
        "\n",
        "plt.figure(dpi=125)\n",
        "plt.hist(df.age, color='green', edgecolor = 'black', alpha = 0.7)\n",
        "plt.xlabel('Age')\n",
        "plt.ylabel('Count')\n",
        "plt.title('Distribution of Age')\n",
        "plt.show()"
      ],
      "execution_count": 45,
      "outputs": [
        {
          "output_type": "display_data",
          "data": {
            "image/png": "[encoded data removed]",
            "text/plain": [
              "<Figure size 750x500 with 1 Axes>"
            ]
          },
          "metadata": {
            "tags": [],
            "needs_background": "light"
          }
        }
      ]
    },
    {
      "cell_type": "markdown",
      "metadata": {
        "id": "7Ft-vWU8ZPWC"
      },
      "source": [
        "\n",
        "* No definite pattern is visible since the plot is vastly spread.\n",
        "* But we can see that as mostly for players having age >=15 years, the overall rating of a player decreases as age increases. \n",
        "* Players in the age of range 20-25 years have highest overall rating.Players in their 30's and 40's have the lowest overall rating.\n",
        "\n"
      ]
    },
    {
      "cell_type": "code",
      "metadata": {
        "colab": {
          "base_uri": "https://localhost:8080/",
          "height": 501
        },
        "id": "cEsw2JQiZY_v",
        "outputId": "d739d39e-4b9c-4c95-d2cb-64d1f0f3f606"
      },
      "source": [
        "# histogram\n",
        "# Preferred foot while playing\n",
        "\n",
        "plt.figure(dpi=125)\n",
        "plt.hist(df.preferred_foot, color='blue', edgecolor = 'black', alpha = 0.7)\n",
        "plt.xlabel('Preferred Foot Players')\n",
        "plt.ylabel('Count')\n",
        "plt.title('Count of Preferred Foot')\n",
        "plt.show()"
      ],
      "execution_count": 46,
      "outputs": [
        {
          "output_type": "display_data",
          "data": {
            "image/png": "[encoded data removed]",
            "text/plain": [
              "<Figure size 750x500 with 1 Axes>"
            ]
          },
          "metadata": {
            "tags": [],
            "needs_background": "light"
          }
        }
      ]
    },
    {
      "cell_type": "code",
      "metadata": {
        "colab": {
          "base_uri": "https://localhost:8080/",
          "height": 398
        },
        "id": "DpYVqcnAxwlU",
        "outputId": "e417c0e7-1c5a-4e90-dcde-6ea79da19d6e"
      },
      "source": [
        "figsize = ()\n",
        "label = df['preferred_foot'].value_counts().index\n",
        "name = df['preferred_foot'].value_counts()\n",
        "explode = [0,0.3]\n",
        "plt.pie(name,labels = label,shadow = True,autopct='%1.1f%%',explode =explode, radius = 2)\n",
        "plt.title('Perecentage of the preferred foot')\n",
        "plt.legend()\n",
        "plt.show()"
      ],
      "execution_count": 47,
      "outputs": [
        {
          "output_type": "display_data",
          "data": {
            "image/png": "[encoded data removed]",
            "text/plain": [
              "<Figure size 432x288 with 1 Axes>"
            ]
          },
          "metadata": {
            "tags": []
          }
        }
      ]
    },
    {
      "cell_type": "markdown",
      "metadata": {
        "id": "ZpWUjgX3b1Y4"
      },
      "source": [
        "So we can see that majority of the players prefer right foot for playing."
      ]
    },
    {
      "cell_type": "code",
      "metadata": {
        "colab": {
          "base_uri": "https://localhost:8080/",
          "height": 657
        },
        "id": "8HjHUA-9b82g",
        "outputId": "3b4eb92d-74f9-4e09-b392-eae1703cf1cc"
      },
      "source": [
        "# histogram\n",
        "# Countries with players having highest potential\n",
        "\n",
        "plt.figure(dpi=125)\n",
        "ax = plt.subplot(1,1,1)\n",
        "df.groupby('nationality')['potential'].mean()[df.groupby('nationality')['potential'].mean()>75].plot.bar(ax=ax)\n",
        "\n",
        "plt.xlabel('country')\n",
        "plt.ylabel('potential_mean')\n",
        "plt.title('Country with highest potential')\n",
        "plt.show()"
      ],
      "execution_count": 48,
      "outputs": [
        {
          "output_type": "display_data",
          "data": {
            "image/png": "[encoded data removed]",
            "text/plain": [
              "<Figure size 750x500 with 1 Axes>"
            ]
          },
          "metadata": {
            "tags": [],
            "needs_background": "light"
          }
        }
      ]
    },
    {
      "cell_type": "markdown",
      "metadata": {
        "id": "hE7TyfpSdknY"
      },
      "source": [
        "The countries having players with highest potential are : Central African Rep , Portugal , Russia , Spain"
      ]
    },
    {
      "cell_type": "code",
      "metadata": {
        "colab": {
          "base_uri": "https://localhost:8080/",
          "height": 501
        },
        "id": "wrzw3wddc2ye",
        "outputId": "d0b0a4a2-92a2-4741-a1fe-a5c9013afabf"
      },
      "source": [
        "# box plot\n",
        "\n",
        "plt.figure(dpi=125)\n",
        "sns.boxplot(y='age',x='international_reputation',data=df)\n",
        "plt.title('Age vs International reputation')\n",
        "plt.ylabel('Age')\n",
        "plt.xlabel('International reputation')\n",
        "plt.show()"
      ],
      "execution_count": 49,
      "outputs": [
        {
          "output_type": "display_data",
          "data": {
            "image/png": "[encoded data removed]",
            "text/plain": [
              "<Figure size 750x500 with 1 Axes>"
            ]
          },
          "metadata": {
            "tags": [],
            "needs_background": "light"
          }
        }
      ]
    },
    {
      "cell_type": "markdown",
      "metadata": {
        "id": "rz8h9S_oc3Cs"
      },
      "source": [
        "* Only a little population of players have high reputations of 5 and 4\n",
        "* As age increases the international_reputation of players increases \n",
        "* Except few outlires i.e there are some exception among the players who are old but have reputation of 1 and relatively young players who have high reputation"
      ]
    },
    {
      "cell_type": "code",
      "metadata": {
        "colab": {
          "base_uri": "https://localhost:8080/",
          "height": 878
        },
        "id": "wl_pdusCdy1l",
        "outputId": "ca193ec5-d279-4129-a712-177982d67bed"
      },
      "source": [
        "# box plot\n",
        "\n",
        "plt.figure(dpi=125,figsize=(8,8))\n",
        "sns.boxplot(y='wage_eur',x='international_reputation',data=df)\n",
        "plt.title('Wage v Reputation')\n",
        "plt.ylabel('Wage in Euros')\n",
        "plt.xlabel('international_reputation')\n",
        "plt.show()"
      ],
      "execution_count": 50,
      "outputs": [
        {
          "output_type": "display_data",
          "data": {
            "image/png": "[encoded data removed]",
            "text/plain": [
              "<Figure size 1000x1000 with 1 Axes>"
            ]
          },
          "metadata": {
            "tags": [],
            "needs_background": "light"
          }
        }
      ]
    },
    {
      "cell_type": "markdown",
      "metadata": {
        "id": "qiHiOeTcfNvf"
      },
      "source": [
        "\n",
        "* Players having high reputation have high wages \n",
        "* We can also say that wages of players increases as the international reputation of players increases .\n",
        "* There are few outliers"
      ]
    },
    {
      "cell_type": "code",
      "metadata": {
        "colab": {
          "base_uri": "https://localhost:8080/",
          "height": 592
        },
        "id": "EbzMMWOMc3c0",
        "outputId": "346f3abd-8c35-4dec-82c7-89e80ff328a8"
      },
      "source": [
        "# box plot\n",
        "\n",
        "plt.figure(dpi=125, figsize=(20,10))\n",
        "sns.boxplot(y='overall',x='work_rate',data=df)\n",
        "plt.title('Work rate vs Overall score')\n",
        "plt.ylabel('overall score')\n",
        "plt.xlabel('Work rate')\n",
        "plt.show()"
      ],
      "execution_count": 51,
      "outputs": [
        {
          "output_type": "display_data",
          "data": {
            "image/png": "[encoded data removed]",
            "text/plain": [
              "<Figure size 2500x1250 with 1 Axes>"
            ]
          },
          "metadata": {
            "tags": [],
            "needs_background": "light"
          }
        }
      ]
    },
    {
      "cell_type": "markdown",
      "metadata": {
        "id": "y-JMZrTueUwP"
      },
      "source": [
        "* Players with high and medium -high work rate have high overall score\n",
        "* PLyers with low work rate have comparatively low overall score\n",
        "* Few outliers are also there i.e exceptional players who have low work rate but high overall score or high work rate but poor score."
      ]
    },
    {
      "cell_type": "code",
      "metadata": {
        "colab": {
          "base_uri": "https://localhost:8080/",
          "height": 499
        },
        "id": "ogTDP0HCyLwu",
        "outputId": "16b92ae7-a042-4a5d-d4ce-6c97b553d76c"
      },
      "source": [
        "# Displaying top 10 countries with most number of players\n",
        "top = df['nationality'].value_counts().head(10)\n",
        "fig,ax = plt.subplots(figsize = (10,8))\n",
        "ar = top.values\n",
        "ra = top.index\n",
        "ax.bar(ra,ar, color = 'green')\n",
        "ax.set_title(('Top 10 Countries with most number of players'))\n",
        "plt.show()"
      ],
      "execution_count": 52,
      "outputs": [
        {
          "output_type": "display_data",
          "data": {
            "image/png": "[encoded data removed]",
            "text/plain": [
              "<Figure size 720x576 with 1 Axes>"
            ]
          },
          "metadata": {
            "tags": [],
            "needs_background": "light"
          }
        }
      ]
    },
    {
      "cell_type": "markdown",
      "metadata": {
        "id": "nbj43xDL0RDf"
      },
      "source": [
        "So, we see that England has the highest number of player participating."
      ]
    },
    {
      "cell_type": "code",
      "metadata": {
        "colab": {
          "base_uri": "https://localhost:8080/",
          "height": 400
        },
        "id": "1npDTwNgeTsD",
        "outputId": "16624a9f-dd36-4cd8-be95-4de45f1d0868"
      },
      "source": [
        "# scatter plot\n",
        "sns.lmplot(data=df, x=\"age\", y=\"pace\")"
      ],
      "execution_count": 53,
      "outputs": [
        {
          "output_type": "execute_result",
          "data": {
            "text/plain": [
              "<seaborn.axisgrid.FacetGrid at 0x7fd5527bb350>"
            ]
          },
          "metadata": {
            "tags": []
          },
          "execution_count": 53
        },
        {
          "output_type": "display_data",
          "data": {
            "image/png": "[encoded data removed]",
            "text/plain": [
              "<Figure size 360x360 with 1 Axes>"
            ]
          },
          "metadata": {
            "tags": [],
            "needs_background": "light"
          }
        }
      ]
    },
    {
      "cell_type": "markdown",
      "metadata": {
        "id": "Vbpy6tEMc3mv"
      },
      "source": [
        "From seeing the line we can say that as the age increases the pace of the players decreases , except few outliers."
      ]
    },
    {
      "cell_type": "code",
      "metadata": {
        "colab": {
          "base_uri": "https://localhost:8080/",
          "height": 471
        },
        "id": "8RCE6oA8fVHO",
        "outputId": "ea3ace87-ca5b-4402-857e-a4054fb0978b"
      },
      "source": [
        "# Scatter Plot (colored by Age) year 2020 - Overall Rating vs Value in Euros\n",
        "\n",
        "sns.lmplot(x = \"overall\", y = \"value_eur\", data = df, fit_reg=False, hue='age')"
      ],
      "execution_count": 54,
      "outputs": [
        {
          "output_type": "execute_result",
          "data": {
            "text/plain": [
              "<seaborn.axisgrid.FacetGrid at 0x7fd55266cc50>"
            ]
          },
          "metadata": {
            "tags": []
          },
          "execution_count": 54
        },
        {
          "output_type": "display_data",
          "data": {
            "image/png": "[encoded data removed]",
            "text/plain": [
              "<Figure size 408.75x360 with 1 Axes>"
            ]
          },
          "metadata": {
            "tags": [],
            "needs_background": "light"
          }
        }
      ]
    },
    {
      "cell_type": "markdown",
      "metadata": {
        "id": "xvDiCdQBiLO4"
      },
      "source": [
        "Players in their mid 20's and 30's have high overall rating and earn more in comparison to others. Except few outliers , the over rating and salary decreases as age increases."
      ]
    },
    {
      "cell_type": "code",
      "metadata": {
        "colab": {
          "base_uri": "https://localhost:8080/",
          "height": 401
        },
        "id": "NGiEfTQMi91u",
        "outputId": "ccda450d-7172-48f9-bfc6-a7e06a65c650"
      },
      "source": [
        "# scatter plot\n",
        "sns.lmplot(x='skill_ball_control', y='skill_dribbling', data=df, col='preferred_foot')"
      ],
      "execution_count": 55,
      "outputs": [
        {
          "output_type": "execute_result",
          "data": {
            "text/plain": [
              "<seaborn.axisgrid.FacetGrid at 0x7fd55363fb90>"
            ]
          },
          "metadata": {
            "tags": []
          },
          "execution_count": 55
        },
        {
          "output_type": "display_data",
          "data": {
            "image/png": "[encoded data removed]",
            "text/plain": [
              "<Figure size 720x360 with 2 Axes>"
            ]
          },
          "metadata": {
            "tags": [],
            "needs_background": "light"
          }
        }
      ]
    },
    {
      "cell_type": "markdown",
      "metadata": {
        "id": "7HdloidxPmq4"
      },
      "source": [
        "\n",
        "* There are more players who prefers right foot for playing\n",
        "* skill_ball_control and skill_dribbling are linearly dependent on each other."
      ]
    },
    {
      "cell_type": "code",
      "metadata": {
        "colab": {
          "base_uri": "https://localhost:8080/",
          "height": 279
        },
        "id": "AJMGHw50kCZ9",
        "outputId": "99f19b41-e735-495e-fea2-5c84fbdcc6ff"
      },
      "source": [
        "# qq plot\n",
        "import statsmodels.api as sm\n",
        "fig = sm.qqplot(df.height_cm)\n",
        "plt.show()"
      ],
      "execution_count": 56,
      "outputs": [
        {
          "output_type": "display_data",
          "data": {
            "image/png": "[encoded data removed]",
            "text/plain": [
              "<Figure size 432x288 with 1 Axes>"
            ]
          },
          "metadata": {
            "tags": [],
            "needs_background": "light"
          }
        }
      ]
    },
    {
      "cell_type": "markdown",
      "metadata": {
        "id": "w5FFXmNZzKdv"
      },
      "source": [
        "height values of the players are normally distributed which means that majority of the players have relatively the  same height , with some few outliers ."
      ]
    },
    {
      "cell_type": "code",
      "metadata": {
        "colab": {
          "base_uri": "https://localhost:8080/",
          "height": 279
        },
        "id": "go6bOfi210UF",
        "outputId": "207cf5b8-63b7-4d45-b9ce-3bdb202e4d65"
      },
      "source": [
        "# qq plot\n",
        "fig = sm.qqplot(df.weight_kg)\n",
        "plt.show()"
      ],
      "execution_count": 57,
      "outputs": [
        {
          "output_type": "display_data",
          "data": {
            "image/png": "[encoded data removed]",
            "text/plain": [
              "<Figure size 432x288 with 1 Axes>"
            ]
          },
          "metadata": {
            "tags": [],
            "needs_background": "light"
          }
        }
      ]
    },
    {
      "cell_type": "markdown",
      "metadata": {
        "id": "bYnJ3vJn2c5H"
      },
      "source": [
        "weight values of the players are normally distributed which means that majority of the players have relatively the  same weight , with some few outliers ."
      ]
    },
    {
      "cell_type": "code",
      "metadata": {
        "colab": {
          "base_uri": "https://localhost:8080/",
          "height": 279
        },
        "id": "etkPzICx1BAY",
        "outputId": "0dd44aa4-014e-4146-adba-bcf71ec964f0"
      },
      "source": [
        "# qq plot\n",
        "fig = sm.qqplot(df.physic)\n",
        "plt.show()"
      ],
      "execution_count": 58,
      "outputs": [
        {
          "output_type": "display_data",
          "data": {
            "image/png": "[encoded data removed]",
            "text/plain": [
              "<Figure size 432x288 with 1 Axes>"
            ]
          },
          "metadata": {
            "tags": [],
            "needs_background": "light"
          }
        }
      ]
    },
    {
      "cell_type": "markdown",
      "metadata": {
        "id": "EhLbiAJv13m8"
      },
      "source": [
        "physic values of the players are normally distributed which means that majority of the players have relatively the  physic value i.e majority of the players are fit , with some few outliers ( which are actually the missing values that were replaced by 0 )"
      ]
    },
    {
      "cell_type": "code",
      "metadata": {
        "colab": {
          "base_uri": "https://localhost:8080/",
          "height": 404
        },
        "id": "7ju7AtMF0_Yd",
        "outputId": "68aa6877-a4bb-4aad-c2da-db29170ebe86"
      },
      "source": [
        "# Comparison of Potential of Top 10 FIFA countries\n",
        "\n",
        "plt.figure(1 , figsize = (12,6))\n",
        "sns.barplot(x = 'nationality', y = 'potential', data = df.head(10), palette='PuBuGn_d')\n",
        "plt.title('Comparison of Potential of Top 10 FIFA countries')\n",
        "plt.show()"
      ],
      "execution_count": 59,
      "outputs": [
        {
          "output_type": "display_data",
          "data": {
            "image/png": "[encoded data removed]",
            "text/plain": [
              "<Figure size 864x432 with 1 Axes>"
            ]
          },
          "metadata": {
            "tags": [],
            "needs_background": "light"
          }
        }
      ]
    },
    {
      "cell_type": "code",
      "metadata": {
        "colab": {
          "base_uri": "https://localhost:8080/",
          "height": 469
        },
        "id": "mHdZ5EQD1P2Z",
        "outputId": "a8a03b7f-5928-4782-96f3-52c25fed8e55"
      },
      "source": [
        "# comparison of potential of top 10 players\n",
        "\n",
        "plt.figure(1 , figsize = (12,6))\n",
        "sns.barplot(x = 'short_name', y = 'potential', data = df.head(10),palette='PuBuGn_d')\n",
        "plt.title('Comparison of Potential of Top 10 FIFA players')\n",
        "plt.xticks(rotation = 50)\n",
        "plt.show()"
      ],
      "execution_count": 60,
      "outputs": [
        {
          "output_type": "display_data",
          "data": {
            "image/png": "[encoded data removed]",
            "text/plain": [
              "<Figure size 864x432 with 1 Axes>"
            ]
          },
          "metadata": {
            "tags": [],
            "needs_background": "light"
          }
        }
      ]
    },
    {
      "cell_type": "code",
      "metadata": {
        "colab": {
          "base_uri": "https://localhost:8080/",
          "height": 368
        },
        "id": "qE4E6mFv5cfp",
        "outputId": "1f79eb2a-663f-4a32-c881-19841cb9009d"
      },
      "source": [
        "# height distribution and mean height\n",
        "\n",
        "plt.figure(figsize=(14,5))\n",
        "plt.title('Height Distribution FIFA 20')\n",
        "sns.distplot(df['height_cm'], kde=True, bins=20)\n",
        "plt.axvline(x=np.mean(df['height_cm']),c='orange',label='Mean Height of All Players')\n",
        "plt.legend()"
      ],
      "execution_count": 61,
      "outputs": [
        {
          "output_type": "execute_result",
          "data": {
            "text/plain": [
              "<matplotlib.legend.Legend at 0x7fd540e51c50>"
            ]
          },
          "metadata": {
            "tags": []
          },
          "execution_count": 61
        },
        {
          "output_type": "display_data",
          "data": {
            "image/png": "[encoded data removed]",
            "text/plain": [
              "<Figure size 1008x360 with 1 Axes>"
            ]
          },
          "metadata": {
            "tags": [],
            "needs_background": "light"
          }
        }
      ]
    },
    {
      "cell_type": "code",
      "metadata": {
        "colab": {
          "base_uri": "https://localhost:8080/",
          "height": 368
        },
        "id": "5feharlw5tOk",
        "outputId": "be83d70b-748b-4253-8b84-eca70a68bb10"
      },
      "source": [
        "# Weight distribution and mean weight\n",
        "\n",
        "plt.figure(figsize=(14,5))\n",
        "plt.title('Weight Distribution FIFA 20')\n",
        "sns.distplot(df['weight_kg'], kde=True, bins=20)\n",
        "plt.axvline(x=np.mean(df['weight_kg']),c='orange',label='Mean Weight of All Players')\n",
        "plt.legend()"
      ],
      "execution_count": 62,
      "outputs": [
        {
          "output_type": "execute_result",
          "data": {
            "text/plain": [
              "<matplotlib.legend.Legend at 0x7fd540db7290>"
            ]
          },
          "metadata": {
            "tags": []
          },
          "execution_count": 62
        },
        {
          "output_type": "display_data",
          "data": {
            "image/png": "[encoded data removed]",
            "text/plain": [
              "<Figure size 1008x360 with 1 Axes>"
            ]
          },
          "metadata": {
            "tags": [],
            "needs_background": "light"
          }
        }
      ]
    },
    {
      "cell_type": "code",
      "metadata": {
        "colab": {
          "base_uri": "https://localhost:8080/",
          "height": 295
        },
        "id": "RhY-h69B532u",
        "outputId": "07067b26-d02c-457d-a6df-2becb5f1416c"
      },
      "source": [
        "# Weight vs Pace\n",
        "\n",
        "plt.figure()\n",
        "x=df.head(20)['weight_kg']\n",
        "y=df.head(20)['pace']\n",
        "\n",
        "sns.regplot(x,y)\n",
        "plt.title('Weight v Pace')\n",
        "plt.xlabel('Weight')\n",
        "plt.ylabel('Pace')\n",
        "plt.show()"
      ],
      "execution_count": 63,
      "outputs": [
        {
          "output_type": "display_data",
          "data": {
            "image/png": "[encoded data removed]",
            "text/plain": [
              "<Figure size 432x288 with 1 Axes>"
            ]
          },
          "metadata": {
            "tags": [],
            "needs_background": "light"
          }
        }
      ]
    },
    {
      "cell_type": "markdown",
      "metadata": {
        "id": "FqGXH2W86E79"
      },
      "source": [
        "We observe:\n",
        "\n",
        "* Pace tends to decrease with increase in weight."
      ]
    },
    {
      "cell_type": "code",
      "metadata": {
        "colab": {
          "base_uri": "https://localhost:8080/",
          "height": 295
        },
        "id": "RHW2TtSe6GqI",
        "outputId": "896e5459-64ab-42d0-c767-ea4f431f4cca"
      },
      "source": [
        "# Height vs weight\n",
        "\n",
        "plt.figure()\n",
        "x=df.head(20)['height_cm']\n",
        "y=df.head(20)['weight_kg']\n",
        "\n",
        "sns.regplot(x,y)\n",
        "plt.title('Height v Weight')\n",
        "plt.xlabel('Height')\n",
        "plt.ylabel('Weight')\n",
        "plt.show()"
      ],
      "execution_count": 64,
      "outputs": [
        {
          "output_type": "display_data",
          "data": {
            "image/png": "[encoded data removed]",
            "text/plain": [
              "<Figure size 432x288 with 1 Axes>"
            ]
          },
          "metadata": {
            "tags": [],
            "needs_background": "light"
          }
        }
      ]
    },
    {
      "cell_type": "markdown",
      "metadata": {
        "id": "NvO-gVxy6RDa"
      },
      "source": [
        "We observe:\n",
        "\n",
        "* Height and weight are linearly dependant"
      ]
    },
    {
      "cell_type": "markdown",
      "metadata": {
        "id": "HS6g4yJ31kGx"
      },
      "source": [
        "## **Data Anaylsis**"
      ]
    },
    {
      "cell_type": "markdown",
      "metadata": {
        "id": "6gOblf0i1nWk"
      },
      "source": [
        "Average player height in FIFA"
      ]
    },
    {
      "cell_type": "code",
      "metadata": {
        "colab": {
          "base_uri": "https://localhost:8080/"
        },
        "id": "XJCHvud11lUY",
        "outputId": "a851ac18-b71d-4e69-ea24-d7cfc79207ae"
      },
      "source": [
        "height = df['height_cm'].mean()\n",
        "print(str(round(height,2)) + \" is the average height in fifa\")"
      ],
      "execution_count": 65,
      "outputs": [
        {
          "output_type": "stream",
          "text": [
            "181.36 is the average height in fifa\n"
          ],
          "name": "stdout"
        }
      ]
    },
    {
      "cell_type": "markdown",
      "metadata": {
        "id": "iBwZb4Bq1y23"
      },
      "source": [
        "Average player weight in FIFA"
      ]
    },
    {
      "cell_type": "code",
      "metadata": {
        "colab": {
          "base_uri": "https://localhost:8080/"
        },
        "id": "6hRhNcK-10uz",
        "outputId": "1ff3a2bd-d974-43b4-a087-6ef35369bf80"
      },
      "source": [
        "weight = df['weight_kg'].mean()\n",
        "print(str(round(weight,2)) + \" is the average weight in fifa\")"
      ],
      "execution_count": 66,
      "outputs": [
        {
          "output_type": "stream",
          "text": [
            "75.28 is the average weight in fifa\n"
          ],
          "name": "stdout"
        }
      ]
    },
    {
      "cell_type": "markdown",
      "metadata": {
        "id": "8eP6spnU2ChI"
      },
      "source": [
        "10 Oldest players"
      ]
    },
    {
      "cell_type": "code",
      "metadata": {
        "colab": {
          "base_uri": "https://localhost:8080/",
          "height": 362
        },
        "id": "bQUS-hqH2DFj",
        "outputId": "f83792ce-c376-42b5-ffa0-1d1cfb84d5d8"
      },
      "source": [
        "df.sort_values(by = 'age' , ascending = False)[['short_name','club','nationality','overall', 'age' ]].head(10)"
      ],
      "execution_count": 67,
      "outputs": [
        {
          "output_type": "execute_result",
          "data": {
            "text/html": [
              "<div>\n",
              "<style scoped>\n",
              "    .dataframe tbody tr th:only-of-type {\n",
              "        vertical-align: middle;\n",
              "    }\n",
              "\n",
              "    .dataframe tbody tr th {\n",
              "        vertical-align: top;\n",
              "    }\n",
              "\n",
              "    .dataframe thead th {\n",
              "        text-align: right;\n",
              "    }\n",
              "</style>\n",
              "<table border=\"1\" class=\"dataframe\">\n",
              "  <thead>\n",
              "    <tr style=\"text-align: right;\">\n",
              "      <th></th>\n",
              "      <th>short_name</th>\n",
              "      <th>club</th>\n",
              "      <th>nationality</th>\n",
              "      <th>overall</th>\n",
              "      <th>age</th>\n",
              "    </tr>\n",
              "  </thead>\n",
              "  <tbody>\n",
              "    <tr>\n",
              "      <th>13003</th>\n",
              "      <td>H. Sulaimani</td>\n",
              "      <td>Al Ahli</td>\n",
              "      <td>Saudi Arabia</td>\n",
              "      <td>63</td>\n",
              "      <td>42</td>\n",
              "    </tr>\n",
              "    <tr>\n",
              "      <th>11832</th>\n",
              "      <td>C. Muñoz</td>\n",
              "      <td>CD Universidad de Concepción</td>\n",
              "      <td>Argentina</td>\n",
              "      <td>64</td>\n",
              "      <td>42</td>\n",
              "    </tr>\n",
              "    <tr>\n",
              "      <th>200</th>\n",
              "      <td>G. Buffon</td>\n",
              "      <td>Juventus</td>\n",
              "      <td>Italy</td>\n",
              "      <td>83</td>\n",
              "      <td>41</td>\n",
              "    </tr>\n",
              "    <tr>\n",
              "      <th>3706</th>\n",
              "      <td>C. Lucchetti</td>\n",
              "      <td>Atlético Tucumán</td>\n",
              "      <td>Argentina</td>\n",
              "      <td>72</td>\n",
              "      <td>41</td>\n",
              "    </tr>\n",
              "    <tr>\n",
              "      <th>10665</th>\n",
              "      <td>F. Kippe</td>\n",
              "      <td>Lillestrøm SK</td>\n",
              "      <td>Norway</td>\n",
              "      <td>65</td>\n",
              "      <td>41</td>\n",
              "    </tr>\n",
              "    <tr>\n",
              "      <th>868</th>\n",
              "      <td>Hilton</td>\n",
              "      <td>Montpellier HSC</td>\n",
              "      <td>Brazil</td>\n",
              "      <td>78</td>\n",
              "      <td>41</td>\n",
              "    </tr>\n",
              "    <tr>\n",
              "      <th>2965</th>\n",
              "      <td>Cifuentes</td>\n",
              "      <td>Cádiz CF</td>\n",
              "      <td>Spain</td>\n",
              "      <td>73</td>\n",
              "      <td>40</td>\n",
              "    </tr>\n",
              "    <tr>\n",
              "      <th>15812</th>\n",
              "      <td>M. Gurski</td>\n",
              "      <td>SpVgg Unterhaching</td>\n",
              "      <td>Germany</td>\n",
              "      <td>59</td>\n",
              "      <td>40</td>\n",
              "    </tr>\n",
              "    <tr>\n",
              "      <th>8359</th>\n",
              "      <td>F. Cubero</td>\n",
              "      <td>Vélez Sarsfield</td>\n",
              "      <td>Argentina</td>\n",
              "      <td>67</td>\n",
              "      <td>40</td>\n",
              "    </tr>\n",
              "    <tr>\n",
              "      <th>2963</th>\n",
              "      <td>D. Dainelli</td>\n",
              "      <td>Livorno</td>\n",
              "      <td>Italy</td>\n",
              "      <td>73</td>\n",
              "      <td>40</td>\n",
              "    </tr>\n",
              "  </tbody>\n",
              "</table>\n",
              "</div>"
            ],
            "text/plain": [
              "         short_name                          club   nationality  overall  age\n",
              "13003  H. Sulaimani                       Al Ahli  Saudi Arabia       63   42\n",
              "11832      C. Muñoz  CD Universidad de Concepción     Argentina       64   42\n",
              "200       G. Buffon                      Juventus         Italy       83   41\n",
              "3706   C. Lucchetti              Atlético Tucumán     Argentina       72   41\n",
              "10665      F. Kippe                 Lillestrøm SK        Norway       65   41\n",
              "868          Hilton               Montpellier HSC        Brazil       78   41\n",
              "2965      Cifuentes                      Cádiz CF         Spain       73   40\n",
              "15812     M. Gurski            SpVgg Unterhaching       Germany       59   40\n",
              "8359      F. Cubero               Vélez Sarsfield     Argentina       67   40\n",
              "2963    D. Dainelli                       Livorno         Italy       73   40"
            ]
          },
          "metadata": {
            "tags": []
          },
          "execution_count": 67
        }
      ]
    },
    {
      "cell_type": "markdown",
      "metadata": {
        "id": "ASYmQrNf2MMi"
      },
      "source": [
        "10 youngest players"
      ]
    },
    {
      "cell_type": "code",
      "metadata": {
        "colab": {
          "base_uri": "https://localhost:8080/",
          "height": 362
        },
        "id": "BYDLKE1l2QsB",
        "outputId": "9e5d7484-64d7-421c-c6d9-f9fbf18b4375"
      },
      "source": [
        "df.sort_values(by = 'age' , ascending = True)[['short_name','club','nationality','overall', 'age' ]].head(10)"
      ],
      "execution_count": 68,
      "outputs": [
        {
          "output_type": "execute_result",
          "data": {
            "text/html": [
              "<div>\n",
              "<style scoped>\n",
              "    .dataframe tbody tr th:only-of-type {\n",
              "        vertical-align: middle;\n",
              "    }\n",
              "\n",
              "    .dataframe tbody tr th {\n",
              "        vertical-align: top;\n",
              "    }\n",
              "\n",
              "    .dataframe thead th {\n",
              "        text-align: right;\n",
              "    }\n",
              "</style>\n",
              "<table border=\"1\" class=\"dataframe\">\n",
              "  <thead>\n",
              "    <tr style=\"text-align: right;\">\n",
              "      <th></th>\n",
              "      <th>short_name</th>\n",
              "      <th>club</th>\n",
              "      <th>nationality</th>\n",
              "      <th>overall</th>\n",
              "      <th>age</th>\n",
              "    </tr>\n",
              "  </thead>\n",
              "  <tbody>\n",
              "    <tr>\n",
              "      <th>18171</th>\n",
              "      <td>J. Starbuck</td>\n",
              "      <td>Grimsby Town</td>\n",
              "      <td>England</td>\n",
              "      <td>49</td>\n",
              "      <td>16</td>\n",
              "    </tr>\n",
              "    <tr>\n",
              "      <th>4764</th>\n",
              "      <td>A. Hložek</td>\n",
              "      <td>Sparta Praha</td>\n",
              "      <td>Czech Republic</td>\n",
              "      <td>70</td>\n",
              "      <td>16</td>\n",
              "    </tr>\n",
              "    <tr>\n",
              "      <th>18243</th>\n",
              "      <td>E. Sartorius</td>\n",
              "      <td>Lincoln City</td>\n",
              "      <td>England</td>\n",
              "      <td>48</td>\n",
              "      <td>16</td>\n",
              "    </tr>\n",
              "    <tr>\n",
              "      <th>17827</th>\n",
              "      <td>D. Burns</td>\n",
              "      <td>St. Patrick's Athletic</td>\n",
              "      <td>Northern Ireland</td>\n",
              "      <td>52</td>\n",
              "      <td>16</td>\n",
              "    </tr>\n",
              "    <tr>\n",
              "      <th>17614</th>\n",
              "      <td>D. Obbekjær</td>\n",
              "      <td>Odense Boldklub</td>\n",
              "      <td>Denmark</td>\n",
              "      <td>53</td>\n",
              "      <td>16</td>\n",
              "    </tr>\n",
              "    <tr>\n",
              "      <th>17782</th>\n",
              "      <td>S. Anderson</td>\n",
              "      <td>Colorado Rapids</td>\n",
              "      <td>United States</td>\n",
              "      <td>52</td>\n",
              "      <td>16</td>\n",
              "    </tr>\n",
              "    <tr>\n",
              "      <th>18242</th>\n",
              "      <td>R. Wikberg</td>\n",
              "      <td>Östersunds FK</td>\n",
              "      <td>Sweden</td>\n",
              "      <td>48</td>\n",
              "      <td>16</td>\n",
              "    </tr>\n",
              "    <tr>\n",
              "      <th>18031</th>\n",
              "      <td>O. Stefánsson</td>\n",
              "      <td>IFK Norrköping</td>\n",
              "      <td>Iceland</td>\n",
              "      <td>51</td>\n",
              "      <td>16</td>\n",
              "    </tr>\n",
              "    <tr>\n",
              "      <th>14626</th>\n",
              "      <td>A. Velasco</td>\n",
              "      <td>Independiente</td>\n",
              "      <td>Argentina</td>\n",
              "      <td>60</td>\n",
              "      <td>16</td>\n",
              "    </tr>\n",
              "    <tr>\n",
              "      <th>12160</th>\n",
              "      <td>S. Esposito</td>\n",
              "      <td>Inter</td>\n",
              "      <td>Italy</td>\n",
              "      <td>63</td>\n",
              "      <td>16</td>\n",
              "    </tr>\n",
              "  </tbody>\n",
              "</table>\n",
              "</div>"
            ],
            "text/plain": [
              "          short_name                    club       nationality  overall  age\n",
              "18171    J. Starbuck            Grimsby Town           England       49   16\n",
              "4764       A. Hložek            Sparta Praha    Czech Republic       70   16\n",
              "18243   E. Sartorius            Lincoln City           England       48   16\n",
              "17827       D. Burns  St. Patrick's Athletic  Northern Ireland       52   16\n",
              "17614    D. Obbekjær         Odense Boldklub           Denmark       53   16\n",
              "17782    S. Anderson         Colorado Rapids     United States       52   16\n",
              "18242     R. Wikberg           Östersunds FK            Sweden       48   16\n",
              "18031  O. Stefánsson          IFK Norrköping           Iceland       51   16\n",
              "14626     A. Velasco           Independiente         Argentina       60   16\n",
              "12160    S. Esposito                   Inter             Italy       63   16"
            ]
          },
          "metadata": {
            "tags": []
          },
          "execution_count": 68
        }
      ]
    },
    {
      "cell_type": "markdown",
      "metadata": {
        "id": "wvpzbuyn2XBr"
      },
      "source": [
        "Top 5 Best ball controllers"
      ]
    },
    {
      "cell_type": "code",
      "metadata": {
        "colab": {
          "base_uri": "https://localhost:8080/",
          "height": 205
        },
        "id": "_AQSketj2aGt",
        "outputId": "792e90c1-a092-4944-8fda-94edaf2cd90f"
      },
      "source": [
        "df.sort_values(by = 'skill_ball_control' , ascending = False)[['short_name','club','nationality','overall', 'age','skill_ball_control']].head()"
      ],
      "execution_count": 69,
      "outputs": [
        {
          "output_type": "execute_result",
          "data": {
            "text/html": [
              "<div>\n",
              "<style scoped>\n",
              "    .dataframe tbody tr th:only-of-type {\n",
              "        vertical-align: middle;\n",
              "    }\n",
              "\n",
              "    .dataframe tbody tr th {\n",
              "        vertical-align: top;\n",
              "    }\n",
              "\n",
              "    .dataframe thead th {\n",
              "        text-align: right;\n",
              "    }\n",
              "</style>\n",
              "<table border=\"1\" class=\"dataframe\">\n",
              "  <thead>\n",
              "    <tr style=\"text-align: right;\">\n",
              "      <th></th>\n",
              "      <th>short_name</th>\n",
              "      <th>club</th>\n",
              "      <th>nationality</th>\n",
              "      <th>overall</th>\n",
              "      <th>age</th>\n",
              "      <th>skill_ball_control</th>\n",
              "    </tr>\n",
              "  </thead>\n",
              "  <tbody>\n",
              "    <tr>\n",
              "      <th>0</th>\n",
              "      <td>L. Messi</td>\n",
              "      <td>FC Barcelona</td>\n",
              "      <td>Argentina</td>\n",
              "      <td>94</td>\n",
              "      <td>32</td>\n",
              "      <td>96</td>\n",
              "    </tr>\n",
              "    <tr>\n",
              "      <th>2</th>\n",
              "      <td>Neymar Jr</td>\n",
              "      <td>Paris Saint-Germain</td>\n",
              "      <td>Brazil</td>\n",
              "      <td>92</td>\n",
              "      <td>27</td>\n",
              "      <td>95</td>\n",
              "    </tr>\n",
              "    <tr>\n",
              "      <th>4</th>\n",
              "      <td>E. Hazard</td>\n",
              "      <td>Real Madrid</td>\n",
              "      <td>Belgium</td>\n",
              "      <td>91</td>\n",
              "      <td>28</td>\n",
              "      <td>94</td>\n",
              "    </tr>\n",
              "    <tr>\n",
              "      <th>62</th>\n",
              "      <td>Isco</td>\n",
              "      <td>Real Madrid</td>\n",
              "      <td>Spain</td>\n",
              "      <td>86</td>\n",
              "      <td>27</td>\n",
              "      <td>93</td>\n",
              "    </tr>\n",
              "    <tr>\n",
              "      <th>54</th>\n",
              "      <td>L. Insigne</td>\n",
              "      <td>Napoli</td>\n",
              "      <td>Italy</td>\n",
              "      <td>87</td>\n",
              "      <td>28</td>\n",
              "      <td>93</td>\n",
              "    </tr>\n",
              "  </tbody>\n",
              "</table>\n",
              "</div>"
            ],
            "text/plain": [
              "    short_name                 club  ... age  skill_ball_control\n",
              "0     L. Messi         FC Barcelona  ...  32                  96\n",
              "2    Neymar Jr  Paris Saint-Germain  ...  27                  95\n",
              "4    E. Hazard          Real Madrid  ...  28                  94\n",
              "62        Isco          Real Madrid  ...  27                  93\n",
              "54  L. Insigne               Napoli  ...  28                  93\n",
              "\n",
              "[5 rows x 6 columns]"
            ]
          },
          "metadata": {
            "tags": []
          },
          "execution_count": 69
        }
      ]
    },
    {
      "cell_type": "markdown",
      "metadata": {
        "id": "-AzrZlIu2g9q"
      },
      "source": [
        "Top 5 Best defenders"
      ]
    },
    {
      "cell_type": "code",
      "metadata": {
        "colab": {
          "base_uri": "https://localhost:8080/",
          "height": 205
        },
        "id": "IYp7-vIa2jsT",
        "outputId": "0f93ca4a-b3ce-438c-f3ca-56cf54e379f0"
      },
      "source": [
        "df.sort_values(by = 'defending' , ascending = False)[['short_name','club','nationality','overall', 'age','defending']].head()"
      ],
      "execution_count": 70,
      "outputs": [
        {
          "output_type": "execute_result",
          "data": {
            "text/html": [
              "<div>\n",
              "<style scoped>\n",
              "    .dataframe tbody tr th:only-of-type {\n",
              "        vertical-align: middle;\n",
              "    }\n",
              "\n",
              "    .dataframe tbody tr th {\n",
              "        vertical-align: top;\n",
              "    }\n",
              "\n",
              "    .dataframe thead th {\n",
              "        text-align: right;\n",
              "    }\n",
              "</style>\n",
              "<table border=\"1\" class=\"dataframe\">\n",
              "  <thead>\n",
              "    <tr style=\"text-align: right;\">\n",
              "      <th></th>\n",
              "      <th>short_name</th>\n",
              "      <th>club</th>\n",
              "      <th>nationality</th>\n",
              "      <th>overall</th>\n",
              "      <th>age</th>\n",
              "      <th>defending</th>\n",
              "    </tr>\n",
              "  </thead>\n",
              "  <tbody>\n",
              "    <tr>\n",
              "      <th>16</th>\n",
              "      <td>G. Chiellini</td>\n",
              "      <td>Juventus</td>\n",
              "      <td>Italy</td>\n",
              "      <td>89</td>\n",
              "      <td>34</td>\n",
              "      <td>90.0</td>\n",
              "    </tr>\n",
              "    <tr>\n",
              "      <th>7</th>\n",
              "      <td>V. van Dijk</td>\n",
              "      <td>Liverpool</td>\n",
              "      <td>Netherlands</td>\n",
              "      <td>90</td>\n",
              "      <td>27</td>\n",
              "      <td>90.0</td>\n",
              "    </tr>\n",
              "    <tr>\n",
              "      <th>35</th>\n",
              "      <td>D. Godín</td>\n",
              "      <td>Inter</td>\n",
              "      <td>Uruguay</td>\n",
              "      <td>88</td>\n",
              "      <td>33</td>\n",
              "      <td>89.0</td>\n",
              "    </tr>\n",
              "    <tr>\n",
              "      <th>11</th>\n",
              "      <td>K. Koulibaly</td>\n",
              "      <td>Napoli</td>\n",
              "      <td>Senegal</td>\n",
              "      <td>89</td>\n",
              "      <td>28</td>\n",
              "      <td>89.0</td>\n",
              "    </tr>\n",
              "    <tr>\n",
              "      <th>49</th>\n",
              "      <td>M. Hummels</td>\n",
              "      <td>Borussia Dortmund</td>\n",
              "      <td>Germany</td>\n",
              "      <td>87</td>\n",
              "      <td>30</td>\n",
              "      <td>89.0</td>\n",
              "    </tr>\n",
              "  </tbody>\n",
              "</table>\n",
              "</div>"
            ],
            "text/plain": [
              "      short_name               club  nationality  overall  age  defending\n",
              "16  G. Chiellini           Juventus        Italy       89   34       90.0\n",
              "7    V. van Dijk          Liverpool  Netherlands       90   27       90.0\n",
              "35      D. Godín              Inter      Uruguay       88   33       89.0\n",
              "11  K. Koulibaly             Napoli      Senegal       89   28       89.0\n",
              "49    M. Hummels  Borussia Dortmund      Germany       87   30       89.0"
            ]
          },
          "metadata": {
            "tags": []
          },
          "execution_count": 70
        }
      ]
    },
    {
      "cell_type": "markdown",
      "metadata": {
        "id": "41PHnpJP2pd6"
      },
      "source": [
        "Top 5 best shooters"
      ]
    },
    {
      "cell_type": "code",
      "metadata": {
        "colab": {
          "base_uri": "https://localhost:8080/",
          "height": 205
        },
        "id": "f4IyLePq2rLi",
        "outputId": "85598b5a-d202-4e22-daf9-73bd25a08d12"
      },
      "source": [
        "df.sort_values(by = 'shooting' , ascending = False)[['short_name','club','nationality','overall', 'age','shooting']].head()"
      ],
      "execution_count": 71,
      "outputs": [
        {
          "output_type": "execute_result",
          "data": {
            "text/html": [
              "<div>\n",
              "<style scoped>\n",
              "    .dataframe tbody tr th:only-of-type {\n",
              "        vertical-align: middle;\n",
              "    }\n",
              "\n",
              "    .dataframe tbody tr th {\n",
              "        vertical-align: top;\n",
              "    }\n",
              "\n",
              "    .dataframe thead th {\n",
              "        text-align: right;\n",
              "    }\n",
              "</style>\n",
              "<table border=\"1\" class=\"dataframe\">\n",
              "  <thead>\n",
              "    <tr style=\"text-align: right;\">\n",
              "      <th></th>\n",
              "      <th>short_name</th>\n",
              "      <th>club</th>\n",
              "      <th>nationality</th>\n",
              "      <th>overall</th>\n",
              "      <th>age</th>\n",
              "      <th>shooting</th>\n",
              "    </tr>\n",
              "  </thead>\n",
              "  <tbody>\n",
              "    <tr>\n",
              "      <th>1</th>\n",
              "      <td>Cristiano Ronaldo</td>\n",
              "      <td>Juventus</td>\n",
              "      <td>Portugal</td>\n",
              "      <td>93</td>\n",
              "      <td>34</td>\n",
              "      <td>93.0</td>\n",
              "    </tr>\n",
              "    <tr>\n",
              "      <th>0</th>\n",
              "      <td>L. Messi</td>\n",
              "      <td>FC Barcelona</td>\n",
              "      <td>Argentina</td>\n",
              "      <td>94</td>\n",
              "      <td>32</td>\n",
              "      <td>92.0</td>\n",
              "    </tr>\n",
              "    <tr>\n",
              "      <th>12</th>\n",
              "      <td>H. Kane</td>\n",
              "      <td>Tottenham Hotspur</td>\n",
              "      <td>England</td>\n",
              "      <td>89</td>\n",
              "      <td>25</td>\n",
              "      <td>91.0</td>\n",
              "    </tr>\n",
              "    <tr>\n",
              "      <th>17</th>\n",
              "      <td>S. Agüero</td>\n",
              "      <td>Manchester City</td>\n",
              "      <td>Argentina</td>\n",
              "      <td>89</td>\n",
              "      <td>31</td>\n",
              "      <td>90.0</td>\n",
              "    </tr>\n",
              "    <tr>\n",
              "      <th>19</th>\n",
              "      <td>L. Suárez</td>\n",
              "      <td>FC Barcelona</td>\n",
              "      <td>Uruguay</td>\n",
              "      <td>89</td>\n",
              "      <td>32</td>\n",
              "      <td>89.0</td>\n",
              "    </tr>\n",
              "  </tbody>\n",
              "</table>\n",
              "</div>"
            ],
            "text/plain": [
              "           short_name               club nationality  overall  age  shooting\n",
              "1   Cristiano Ronaldo           Juventus    Portugal       93   34      93.0\n",
              "0            L. Messi       FC Barcelona   Argentina       94   32      92.0\n",
              "12            H. Kane  Tottenham Hotspur     England       89   25      91.0\n",
              "17          S. Agüero    Manchester City   Argentina       89   31      90.0\n",
              "19          L. Suárez       FC Barcelona     Uruguay       89   32      89.0"
            ]
          },
          "metadata": {
            "tags": []
          },
          "execution_count": 71
        }
      ]
    },
    {
      "cell_type": "markdown",
      "metadata": {
        "id": "7gAgCkhs2t_-"
      },
      "source": [
        "Top 5 best dribblers"
      ]
    },
    {
      "cell_type": "code",
      "metadata": {
        "colab": {
          "base_uri": "https://localhost:8080/",
          "height": 205
        },
        "id": "7dMPLOIO2x3G",
        "outputId": "1f20ada4-5581-4684-ec55-1bcae898cdf8"
      },
      "source": [
        "df.sort_values(by = 'dribbling' , ascending = False)[['short_name','club','nationality','overall', 'age','dribbling']].head()"
      ],
      "execution_count": 72,
      "outputs": [
        {
          "output_type": "execute_result",
          "data": {
            "text/html": [
              "<div>\n",
              "<style scoped>\n",
              "    .dataframe tbody tr th:only-of-type {\n",
              "        vertical-align: middle;\n",
              "    }\n",
              "\n",
              "    .dataframe tbody tr th {\n",
              "        vertical-align: top;\n",
              "    }\n",
              "\n",
              "    .dataframe thead th {\n",
              "        text-align: right;\n",
              "    }\n",
              "</style>\n",
              "<table border=\"1\" class=\"dataframe\">\n",
              "  <thead>\n",
              "    <tr style=\"text-align: right;\">\n",
              "      <th></th>\n",
              "      <th>short_name</th>\n",
              "      <th>club</th>\n",
              "      <th>nationality</th>\n",
              "      <th>overall</th>\n",
              "      <th>age</th>\n",
              "      <th>dribbling</th>\n",
              "    </tr>\n",
              "  </thead>\n",
              "  <tbody>\n",
              "    <tr>\n",
              "      <th>0</th>\n",
              "      <td>L. Messi</td>\n",
              "      <td>FC Barcelona</td>\n",
              "      <td>Argentina</td>\n",
              "      <td>94</td>\n",
              "      <td>32</td>\n",
              "      <td>96.0</td>\n",
              "    </tr>\n",
              "    <tr>\n",
              "      <th>2</th>\n",
              "      <td>Neymar Jr</td>\n",
              "      <td>Paris Saint-Germain</td>\n",
              "      <td>Brazil</td>\n",
              "      <td>92</td>\n",
              "      <td>27</td>\n",
              "      <td>95.0</td>\n",
              "    </tr>\n",
              "    <tr>\n",
              "      <th>4</th>\n",
              "      <td>E. Hazard</td>\n",
              "      <td>Real Madrid</td>\n",
              "      <td>Belgium</td>\n",
              "      <td>91</td>\n",
              "      <td>28</td>\n",
              "      <td>94.0</td>\n",
              "    </tr>\n",
              "    <tr>\n",
              "      <th>41</th>\n",
              "      <td>Bernardo Silva</td>\n",
              "      <td>Manchester City</td>\n",
              "      <td>Portugal</td>\n",
              "      <td>87</td>\n",
              "      <td>24</td>\n",
              "      <td>92.0</td>\n",
              "    </tr>\n",
              "    <tr>\n",
              "      <th>150</th>\n",
              "      <td>Douglas Costa</td>\n",
              "      <td>Juventus</td>\n",
              "      <td>Brazil</td>\n",
              "      <td>84</td>\n",
              "      <td>28</td>\n",
              "      <td>91.0</td>\n",
              "    </tr>\n",
              "  </tbody>\n",
              "</table>\n",
              "</div>"
            ],
            "text/plain": [
              "         short_name                 club nationality  overall  age  dribbling\n",
              "0          L. Messi         FC Barcelona   Argentina       94   32       96.0\n",
              "2         Neymar Jr  Paris Saint-Germain      Brazil       92   27       95.0\n",
              "4         E. Hazard          Real Madrid     Belgium       91   28       94.0\n",
              "41   Bernardo Silva      Manchester City    Portugal       87   24       92.0\n",
              "150   Douglas Costa             Juventus      Brazil       84   28       91.0"
            ]
          },
          "metadata": {
            "tags": []
          },
          "execution_count": 72
        }
      ]
    },
    {
      "cell_type": "markdown",
      "metadata": {
        "id": "lz7Z_bWk220J"
      },
      "source": [
        "Top 5 quickest players"
      ]
    },
    {
      "cell_type": "code",
      "metadata": {
        "colab": {
          "base_uri": "https://localhost:8080/",
          "height": 205
        },
        "id": "Nefy2D4c25QK",
        "outputId": "896733c4-d4c6-4acf-ac3c-df387f95e87a"
      },
      "source": [
        "df.sort_values(by = 'movement_acceleration' , ascending = False)[['short_name','club','nationality','overall', 'age','movement_acceleration']].head()"
      ],
      "execution_count": 73,
      "outputs": [
        {
          "output_type": "execute_result",
          "data": {
            "text/html": [
              "<div>\n",
              "<style scoped>\n",
              "    .dataframe tbody tr th:only-of-type {\n",
              "        vertical-align: middle;\n",
              "    }\n",
              "\n",
              "    .dataframe tbody tr th {\n",
              "        vertical-align: top;\n",
              "    }\n",
              "\n",
              "    .dataframe thead th {\n",
              "        text-align: right;\n",
              "    }\n",
              "</style>\n",
              "<table border=\"1\" class=\"dataframe\">\n",
              "  <thead>\n",
              "    <tr style=\"text-align: right;\">\n",
              "      <th></th>\n",
              "      <th>short_name</th>\n",
              "      <th>club</th>\n",
              "      <th>nationality</th>\n",
              "      <th>overall</th>\n",
              "      <th>age</th>\n",
              "      <th>movement_acceleration</th>\n",
              "    </tr>\n",
              "  </thead>\n",
              "  <tbody>\n",
              "    <tr>\n",
              "      <th>2167</th>\n",
              "      <td>Adama Traoré</td>\n",
              "      <td>Wolverhampton Wanderers</td>\n",
              "      <td>Spain</td>\n",
              "      <td>74</td>\n",
              "      <td>23</td>\n",
              "      <td>97</td>\n",
              "    </tr>\n",
              "    <tr>\n",
              "      <th>10</th>\n",
              "      <td>K. Mbappé</td>\n",
              "      <td>Paris Saint-Germain</td>\n",
              "      <td>France</td>\n",
              "      <td>89</td>\n",
              "      <td>20</td>\n",
              "      <td>96</td>\n",
              "    </tr>\n",
              "    <tr>\n",
              "      <th>26</th>\n",
              "      <td>R. Sterling</td>\n",
              "      <td>Manchester City</td>\n",
              "      <td>England</td>\n",
              "      <td>88</td>\n",
              "      <td>24</td>\n",
              "      <td>96</td>\n",
              "    </tr>\n",
              "    <tr>\n",
              "      <th>754</th>\n",
              "      <td>I. Sarr</td>\n",
              "      <td>Watford</td>\n",
              "      <td>Senegal</td>\n",
              "      <td>78</td>\n",
              "      <td>21</td>\n",
              "      <td>95</td>\n",
              "    </tr>\n",
              "    <tr>\n",
              "      <th>197</th>\n",
              "      <td>Lucas Moura</td>\n",
              "      <td>Tottenham Hotspur</td>\n",
              "      <td>Brazil</td>\n",
              "      <td>83</td>\n",
              "      <td>26</td>\n",
              "      <td>95</td>\n",
              "    </tr>\n",
              "  </tbody>\n",
              "</table>\n",
              "</div>"
            ],
            "text/plain": [
              "        short_name                     club  ... age  movement_acceleration\n",
              "2167  Adama Traoré  Wolverhampton Wanderers  ...  23                     97\n",
              "10       K. Mbappé      Paris Saint-Germain  ...  20                     96\n",
              "26     R. Sterling          Manchester City  ...  24                     96\n",
              "754        I. Sarr                  Watford  ...  21                     95\n",
              "197    Lucas Moura        Tottenham Hotspur  ...  26                     95\n",
              "\n",
              "[5 rows x 6 columns]"
            ]
          },
          "metadata": {
            "tags": []
          },
          "execution_count": 73
        }
      ]
    },
    {
      "cell_type": "markdown",
      "metadata": {
        "id": "t64ubxcz295I"
      },
      "source": [
        "Top 5 highest earners"
      ]
    },
    {
      "cell_type": "code",
      "metadata": {
        "colab": {
          "base_uri": "https://localhost:8080/",
          "height": 205
        },
        "id": "uHTtodBa2_3P",
        "outputId": "a840a52b-fdb6-44be-a816-1e6dd228b330"
      },
      "source": [
        "df.sort_values(by = 'wage_eur' , ascending = False)[['short_name','club','nationality','overall', 'age','wage_eur']].head()"
      ],
      "execution_count": 74,
      "outputs": [
        {
          "output_type": "execute_result",
          "data": {
            "text/html": [
              "<div>\n",
              "<style scoped>\n",
              "    .dataframe tbody tr th:only-of-type {\n",
              "        vertical-align: middle;\n",
              "    }\n",
              "\n",
              "    .dataframe tbody tr th {\n",
              "        vertical-align: top;\n",
              "    }\n",
              "\n",
              "    .dataframe thead th {\n",
              "        text-align: right;\n",
              "    }\n",
              "</style>\n",
              "<table border=\"1\" class=\"dataframe\">\n",
              "  <thead>\n",
              "    <tr style=\"text-align: right;\">\n",
              "      <th></th>\n",
              "      <th>short_name</th>\n",
              "      <th>club</th>\n",
              "      <th>nationality</th>\n",
              "      <th>overall</th>\n",
              "      <th>age</th>\n",
              "      <th>wage_eur</th>\n",
              "    </tr>\n",
              "  </thead>\n",
              "  <tbody>\n",
              "    <tr>\n",
              "      <th>0</th>\n",
              "      <td>L. Messi</td>\n",
              "      <td>FC Barcelona</td>\n",
              "      <td>Argentina</td>\n",
              "      <td>94</td>\n",
              "      <td>32</td>\n",
              "      <td>565000</td>\n",
              "    </tr>\n",
              "    <tr>\n",
              "      <th>4</th>\n",
              "      <td>E. Hazard</td>\n",
              "      <td>Real Madrid</td>\n",
              "      <td>Belgium</td>\n",
              "      <td>91</td>\n",
              "      <td>28</td>\n",
              "      <td>470000</td>\n",
              "    </tr>\n",
              "    <tr>\n",
              "      <th>1</th>\n",
              "      <td>Cristiano Ronaldo</td>\n",
              "      <td>Juventus</td>\n",
              "      <td>Portugal</td>\n",
              "      <td>93</td>\n",
              "      <td>34</td>\n",
              "      <td>405000</td>\n",
              "    </tr>\n",
              "    <tr>\n",
              "      <th>5</th>\n",
              "      <td>K. De Bruyne</td>\n",
              "      <td>Manchester City</td>\n",
              "      <td>Belgium</td>\n",
              "      <td>91</td>\n",
              "      <td>28</td>\n",
              "      <td>370000</td>\n",
              "    </tr>\n",
              "    <tr>\n",
              "      <th>22</th>\n",
              "      <td>A. Griezmann</td>\n",
              "      <td>FC Barcelona</td>\n",
              "      <td>France</td>\n",
              "      <td>89</td>\n",
              "      <td>28</td>\n",
              "      <td>370000</td>\n",
              "    </tr>\n",
              "  </tbody>\n",
              "</table>\n",
              "</div>"
            ],
            "text/plain": [
              "           short_name             club nationality  overall  age  wage_eur\n",
              "0            L. Messi     FC Barcelona   Argentina       94   32    565000\n",
              "4           E. Hazard      Real Madrid     Belgium       91   28    470000\n",
              "1   Cristiano Ronaldo         Juventus    Portugal       93   34    405000\n",
              "5        K. De Bruyne  Manchester City     Belgium       91   28    370000\n",
              "22       A. Griezmann     FC Barcelona      France       89   28    370000"
            ]
          },
          "metadata": {
            "tags": []
          },
          "execution_count": 74
        }
      ]
    }
  ]
}