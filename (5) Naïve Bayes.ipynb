{
  "nbformat": 4,
  "nbformat_minor": 0,
  "metadata": {
    "colab": {
      "name": "(5) Naïve Bayes.ipynb",
      "provenance": [],
      "collapsed_sections": []
    },
    "kernelspec": {
      "name": "python3",
      "display_name": "Python 3"
    },
    "language_info": {
      "name": "python"
    }
  },
  "cells": [
    {
      "cell_type": "markdown",
      "metadata": {
        "id": "IOK55NHTWmTH"
      },
      "source": [
        "BY: **RIYA JOSHI**\n",
        "\n",
        "EMAIL: riya.joshi@somaiya.edu"
      ]
    },
    {
      "cell_type": "markdown",
      "metadata": {
        "id": "3yqVRjgPWn1K"
      },
      "source": [
        "\n",
        "\n",
        "---\n",
        "\n",
        "\n",
        "### **Basic idea behind Naïve Bayes algorithm**:\n",
        "\n",
        "*   It is a classification algorithm based on Bayes theorem.\n",
        "*   Bayes’ theorem describes the probability of an event, based on prior knowledge of conditions that might be related to the event.\n",
        "\n",
        "Naive Bayes Classifier formula can be written based on Bayes theorem as:\n",
        "\n",
        "![image.png](data:image/png;base64,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)\n",
        "\n",
        "Where,\n",
        "* x1, … , xj are j features that are independent of each other. y is the dependent variable.\n",
        "* P(y|x1,…, xj): Posterior Probability\n",
        "* P(x1, …, xj|y): Likelihood of features x1 to xj given that their class is y.\n",
        "* P(y): Prior Probability\n",
        "* P(x1, …, xj): Marginal Probability\n",
        "\n",
        "\n",
        "\n",
        "\n",
        "### **Applications of Naïve Bayes**:\n",
        "* As this algorithm is fast and efficient, you can use it to make real-time predictions.\n",
        "* This algorithm is popular for multi-class predictions. You can find the probability of multiple target classes easily by using this algorithm.\n",
        "* Email services (like Gmail) use this algorithm to figure out whether an email is a spam or not. This algorithm is excellent for spam filtering.\n",
        "* Its assumption of feature independence, and its effectiveness in solving multi-class problems, makes it perfect for performing Sentiment Analysis.\n",
        "* Collaborative Filtering and the Naive Bayes algorithm work together to build recommendation systems. These systems use data mining and machine learning to predict if the user would like a particular resource or not. \n",
        "\n",
        "\n",
        "\n",
        "\n",
        "---\n",
        "\n",
        "\n"
      ]
    },
    {
      "cell_type": "code",
      "metadata": {
        "id": "il50jd_tWd9F"
      },
      "source": [
        "# Importing required libraries\n",
        "import numpy as np\n",
        "import pandas as pd\n",
        "\n",
        "from sklearn.metrics import confusion_matrix\n",
        "\n",
        "import warnings\n",
        "warnings.filterwarnings('ignore')"
      ],
      "execution_count": 1,
      "outputs": []
    },
    {
      "cell_type": "code",
      "metadata": {
        "colab": {
          "base_uri": "https://localhost:8080/",
          "height": 502
        },
        "id": "54dNpG-TWxVR",
        "outputId": "3c4fc4e1-97f0-4baa-9c2f-5bcebb7f373d"
      },
      "source": [
        "df = pd.read_csv('players_20.csv') #importing dataset\n",
        "df.head() # displaying first five records"
      ],
      "execution_count": 2,
      "outputs": [
        {
          "output_type": "execute_result",
          "data": {
            "text/html": [
              "<div>\n",
              "<style scoped>\n",
              "    .dataframe tbody tr th:only-of-type {\n",
              "        vertical-align: middle;\n",
              "    }\n",
              "\n",
              "    .dataframe tbody tr th {\n",
              "        vertical-align: top;\n",
              "    }\n",
              "\n",
              "    .dataframe thead th {\n",
              "        text-align: right;\n",
              "    }\n",
              "</style>\n",
              "<table border=\"1\" class=\"dataframe\">\n",
              "  <thead>\n",
              "    <tr style=\"text-align: right;\">\n",
              "      <th></th>\n",
              "      <th>sofifa_id</th>\n",
              "      <th>player_url</th>\n",
              "      <th>short_name</th>\n",
              "      <th>long_name</th>\n",
              "      <th>age</th>\n",
              "      <th>dob</th>\n",
              "      <th>height_cm</th>\n",
              "      <th>weight_kg</th>\n",
              "      <th>nationality</th>\n",
              "      <th>club</th>\n",
              "      <th>overall</th>\n",
              "      <th>potential</th>\n",
              "      <th>value_eur</th>\n",
              "      <th>wage_eur</th>\n",
              "      <th>player_positions</th>\n",
              "      <th>preferred_foot</th>\n",
              "      <th>international_reputation</th>\n",
              "      <th>weak_foot</th>\n",
              "      <th>skill_moves</th>\n",
              "      <th>work_rate</th>\n",
              "      <th>body_type</th>\n",
              "      <th>real_face</th>\n",
              "      <th>release_clause_eur</th>\n",
              "      <th>player_tags</th>\n",
              "      <th>team_position</th>\n",
              "      <th>team_jersey_number</th>\n",
              "      <th>loaned_from</th>\n",
              "      <th>joined</th>\n",
              "      <th>contract_valid_until</th>\n",
              "      <th>nation_position</th>\n",
              "      <th>nation_jersey_number</th>\n",
              "      <th>pace</th>\n",
              "      <th>shooting</th>\n",
              "      <th>passing</th>\n",
              "      <th>dribbling</th>\n",
              "      <th>defending</th>\n",
              "      <th>physic</th>\n",
              "      <th>player_traits</th>\n",
              "      <th>attacking_crossing</th>\n",
              "      <th>attacking_finishing</th>\n",
              "      <th>attacking_heading_accuracy</th>\n",
              "      <th>attacking_short_passing</th>\n",
              "      <th>attacking_volleys</th>\n",
              "      <th>skill_dribbling</th>\n",
              "      <th>skill_curve</th>\n",
              "      <th>skill_fk_accuracy</th>\n",
              "      <th>skill_long_passing</th>\n",
              "      <th>skill_ball_control</th>\n",
              "      <th>movement_acceleration</th>\n",
              "      <th>movement_sprint_speed</th>\n",
              "      <th>movement_agility</th>\n",
              "      <th>movement_reactions</th>\n",
              "      <th>movement_balance</th>\n",
              "      <th>power_shot_power</th>\n",
              "      <th>power_jumping</th>\n",
              "      <th>power_stamina</th>\n",
              "      <th>power_strength</th>\n",
              "      <th>power_long_shots</th>\n",
              "      <th>mentality_aggression</th>\n",
              "      <th>mentality_interceptions</th>\n",
              "      <th>mentality_positioning</th>\n",
              "      <th>mentality_vision</th>\n",
              "      <th>mentality_penalties</th>\n",
              "      <th>mentality_composure</th>\n",
              "      <th>defending_marking</th>\n",
              "      <th>defending_standing_tackle</th>\n",
              "      <th>defending_sliding_tackle</th>\n",
              "      <th>goalkeeping_diving</th>\n",
              "      <th>goalkeeping_handling</th>\n",
              "      <th>goalkeeping_kicking</th>\n",
              "      <th>goalkeeping_positioning</th>\n",
              "      <th>goalkeeping_reflexes</th>\n",
              "    </tr>\n",
              "  </thead>\n",
              "  <tbody>\n",
              "    <tr>\n",
              "      <th>0</th>\n",
              "      <td>158023</td>\n",
              "      <td>https://sofifa.com/player/158023/lionel-messi/...</td>\n",
              "      <td>L. Messi</td>\n",
              "      <td>Lionel Andrés Messi Cuccittini</td>\n",
              "      <td>32</td>\n",
              "      <td>24-06-1987</td>\n",
              "      <td>170</td>\n",
              "      <td>72</td>\n",
              "      <td>Argentina</td>\n",
              "      <td>FC Barcelona</td>\n",
              "      <td>94</td>\n",
              "      <td>94</td>\n",
              "      <td>95500000</td>\n",
              "      <td>565000</td>\n",
              "      <td>RW, CF, ST</td>\n",
              "      <td>Left</td>\n",
              "      <td>5</td>\n",
              "      <td>4</td>\n",
              "      <td>4</td>\n",
              "      <td>Medium/Low</td>\n",
              "      <td>Messi</td>\n",
              "      <td>Yes</td>\n",
              "      <td>195800000.0</td>\n",
              "      <td>#Dribbler, #Distance Shooter, #Crosser, #FK Sp...</td>\n",
              "      <td>RW</td>\n",
              "      <td>10.0</td>\n",
              "      <td>NaN</td>\n",
              "      <td>01-07-2004</td>\n",
              "      <td>2021.0</td>\n",
              "      <td>NaN</td>\n",
              "      <td>NaN</td>\n",
              "      <td>87.0</td>\n",
              "      <td>92.0</td>\n",
              "      <td>92.0</td>\n",
              "      <td>96.0</td>\n",
              "      <td>39.0</td>\n",
              "      <td>66.0</td>\n",
              "      <td>Beat Offside Trap, Argues with Officials, Earl...</td>\n",
              "      <td>88</td>\n",
              "      <td>95</td>\n",
              "      <td>70</td>\n",
              "      <td>92</td>\n",
              "      <td>88</td>\n",
              "      <td>97</td>\n",
              "      <td>93</td>\n",
              "      <td>94</td>\n",
              "      <td>92</td>\n",
              "      <td>96</td>\n",
              "      <td>91</td>\n",
              "      <td>84</td>\n",
              "      <td>93</td>\n",
              "      <td>95</td>\n",
              "      <td>95</td>\n",
              "      <td>86</td>\n",
              "      <td>68</td>\n",
              "      <td>75</td>\n",
              "      <td>68</td>\n",
              "      <td>94</td>\n",
              "      <td>48</td>\n",
              "      <td>40</td>\n",
              "      <td>94</td>\n",
              "      <td>94</td>\n",
              "      <td>75</td>\n",
              "      <td>96</td>\n",
              "      <td>33</td>\n",
              "      <td>37</td>\n",
              "      <td>26</td>\n",
              "      <td>6</td>\n",
              "      <td>11</td>\n",
              "      <td>15</td>\n",
              "      <td>14</td>\n",
              "      <td>8</td>\n",
              "    </tr>\n",
              "    <tr>\n",
              "      <th>1</th>\n",
              "      <td>20801</td>\n",
              "      <td>https://sofifa.com/player/20801/c-ronaldo-dos-...</td>\n",
              "      <td>Cristiano Ronaldo</td>\n",
              "      <td>Cristiano Ronaldo dos Santos Aveiro</td>\n",
              "      <td>34</td>\n",
              "      <td>05-02-1985</td>\n",
              "      <td>187</td>\n",
              "      <td>83</td>\n",
              "      <td>Portugal</td>\n",
              "      <td>Juventus</td>\n",
              "      <td>93</td>\n",
              "      <td>93</td>\n",
              "      <td>58500000</td>\n",
              "      <td>405000</td>\n",
              "      <td>ST, LW</td>\n",
              "      <td>Right</td>\n",
              "      <td>5</td>\n",
              "      <td>4</td>\n",
              "      <td>5</td>\n",
              "      <td>High/Low</td>\n",
              "      <td>C. Ronaldo</td>\n",
              "      <td>Yes</td>\n",
              "      <td>96500000.0</td>\n",
              "      <td>#Speedster, #Dribbler, #Distance Shooter, #Acr...</td>\n",
              "      <td>LW</td>\n",
              "      <td>7.0</td>\n",
              "      <td>NaN</td>\n",
              "      <td>10-07-2018</td>\n",
              "      <td>2022.0</td>\n",
              "      <td>LS</td>\n",
              "      <td>7.0</td>\n",
              "      <td>90.0</td>\n",
              "      <td>93.0</td>\n",
              "      <td>82.0</td>\n",
              "      <td>89.0</td>\n",
              "      <td>35.0</td>\n",
              "      <td>78.0</td>\n",
              "      <td>Long Throw-in, Selfish, Argues with Officials,...</td>\n",
              "      <td>84</td>\n",
              "      <td>94</td>\n",
              "      <td>89</td>\n",
              "      <td>83</td>\n",
              "      <td>87</td>\n",
              "      <td>89</td>\n",
              "      <td>81</td>\n",
              "      <td>76</td>\n",
              "      <td>77</td>\n",
              "      <td>92</td>\n",
              "      <td>89</td>\n",
              "      <td>91</td>\n",
              "      <td>87</td>\n",
              "      <td>96</td>\n",
              "      <td>71</td>\n",
              "      <td>95</td>\n",
              "      <td>95</td>\n",
              "      <td>85</td>\n",
              "      <td>78</td>\n",
              "      <td>93</td>\n",
              "      <td>63</td>\n",
              "      <td>29</td>\n",
              "      <td>95</td>\n",
              "      <td>82</td>\n",
              "      <td>85</td>\n",
              "      <td>95</td>\n",
              "      <td>28</td>\n",
              "      <td>32</td>\n",
              "      <td>24</td>\n",
              "      <td>7</td>\n",
              "      <td>11</td>\n",
              "      <td>15</td>\n",
              "      <td>14</td>\n",
              "      <td>11</td>\n",
              "    </tr>\n",
              "    <tr>\n",
              "      <th>2</th>\n",
              "      <td>190871</td>\n",
              "      <td>https://sofifa.com/player/190871/neymar-da-sil...</td>\n",
              "      <td>Neymar Jr</td>\n",
              "      <td>Neymar da Silva Santos Junior</td>\n",
              "      <td>27</td>\n",
              "      <td>05-02-1992</td>\n",
              "      <td>175</td>\n",
              "      <td>68</td>\n",
              "      <td>Brazil</td>\n",
              "      <td>Paris Saint-Germain</td>\n",
              "      <td>92</td>\n",
              "      <td>92</td>\n",
              "      <td>105500000</td>\n",
              "      <td>290000</td>\n",
              "      <td>LW, CAM</td>\n",
              "      <td>Right</td>\n",
              "      <td>5</td>\n",
              "      <td>5</td>\n",
              "      <td>5</td>\n",
              "      <td>High/Medium</td>\n",
              "      <td>Neymar</td>\n",
              "      <td>Yes</td>\n",
              "      <td>195200000.0</td>\n",
              "      <td>#Speedster, #Dribbler, #Playmaker  , #Crosser,...</td>\n",
              "      <td>CAM</td>\n",
              "      <td>10.0</td>\n",
              "      <td>NaN</td>\n",
              "      <td>03-08-2017</td>\n",
              "      <td>2022.0</td>\n",
              "      <td>LW</td>\n",
              "      <td>10.0</td>\n",
              "      <td>91.0</td>\n",
              "      <td>85.0</td>\n",
              "      <td>87.0</td>\n",
              "      <td>95.0</td>\n",
              "      <td>32.0</td>\n",
              "      <td>58.0</td>\n",
              "      <td>Power Free-Kick, Injury Free, Selfish, Early C...</td>\n",
              "      <td>87</td>\n",
              "      <td>87</td>\n",
              "      <td>62</td>\n",
              "      <td>87</td>\n",
              "      <td>87</td>\n",
              "      <td>96</td>\n",
              "      <td>88</td>\n",
              "      <td>87</td>\n",
              "      <td>81</td>\n",
              "      <td>95</td>\n",
              "      <td>94</td>\n",
              "      <td>89</td>\n",
              "      <td>96</td>\n",
              "      <td>92</td>\n",
              "      <td>84</td>\n",
              "      <td>80</td>\n",
              "      <td>61</td>\n",
              "      <td>81</td>\n",
              "      <td>49</td>\n",
              "      <td>84</td>\n",
              "      <td>51</td>\n",
              "      <td>36</td>\n",
              "      <td>87</td>\n",
              "      <td>90</td>\n",
              "      <td>90</td>\n",
              "      <td>94</td>\n",
              "      <td>27</td>\n",
              "      <td>26</td>\n",
              "      <td>29</td>\n",
              "      <td>9</td>\n",
              "      <td>9</td>\n",
              "      <td>15</td>\n",
              "      <td>15</td>\n",
              "      <td>11</td>\n",
              "    </tr>\n",
              "    <tr>\n",
              "      <th>3</th>\n",
              "      <td>200389</td>\n",
              "      <td>https://sofifa.com/player/200389/jan-oblak/20/...</td>\n",
              "      <td>J. Oblak</td>\n",
              "      <td>Jan Oblak</td>\n",
              "      <td>26</td>\n",
              "      <td>07-01-1993</td>\n",
              "      <td>188</td>\n",
              "      <td>87</td>\n",
              "      <td>Slovenia</td>\n",
              "      <td>Atlético Madrid</td>\n",
              "      <td>91</td>\n",
              "      <td>93</td>\n",
              "      <td>77500000</td>\n",
              "      <td>125000</td>\n",
              "      <td>GK</td>\n",
              "      <td>Right</td>\n",
              "      <td>3</td>\n",
              "      <td>3</td>\n",
              "      <td>1</td>\n",
              "      <td>Medium/Medium</td>\n",
              "      <td>Normal</td>\n",
              "      <td>Yes</td>\n",
              "      <td>164700000.0</td>\n",
              "      <td>NaN</td>\n",
              "      <td>GK</td>\n",
              "      <td>13.0</td>\n",
              "      <td>NaN</td>\n",
              "      <td>16-07-2014</td>\n",
              "      <td>2023.0</td>\n",
              "      <td>GK</td>\n",
              "      <td>1.0</td>\n",
              "      <td>NaN</td>\n",
              "      <td>NaN</td>\n",
              "      <td>NaN</td>\n",
              "      <td>NaN</td>\n",
              "      <td>NaN</td>\n",
              "      <td>NaN</td>\n",
              "      <td>Flair, Acrobatic Clearance</td>\n",
              "      <td>13</td>\n",
              "      <td>11</td>\n",
              "      <td>15</td>\n",
              "      <td>43</td>\n",
              "      <td>13</td>\n",
              "      <td>12</td>\n",
              "      <td>13</td>\n",
              "      <td>14</td>\n",
              "      <td>40</td>\n",
              "      <td>30</td>\n",
              "      <td>43</td>\n",
              "      <td>60</td>\n",
              "      <td>67</td>\n",
              "      <td>88</td>\n",
              "      <td>49</td>\n",
              "      <td>59</td>\n",
              "      <td>78</td>\n",
              "      <td>41</td>\n",
              "      <td>78</td>\n",
              "      <td>12</td>\n",
              "      <td>34</td>\n",
              "      <td>19</td>\n",
              "      <td>11</td>\n",
              "      <td>65</td>\n",
              "      <td>11</td>\n",
              "      <td>68</td>\n",
              "      <td>27</td>\n",
              "      <td>12</td>\n",
              "      <td>18</td>\n",
              "      <td>87</td>\n",
              "      <td>92</td>\n",
              "      <td>78</td>\n",
              "      <td>90</td>\n",
              "      <td>89</td>\n",
              "    </tr>\n",
              "    <tr>\n",
              "      <th>4</th>\n",
              "      <td>183277</td>\n",
              "      <td>https://sofifa.com/player/183277/eden-hazard/2...</td>\n",
              "      <td>E. Hazard</td>\n",
              "      <td>Eden Hazard</td>\n",
              "      <td>28</td>\n",
              "      <td>07-01-1991</td>\n",
              "      <td>175</td>\n",
              "      <td>74</td>\n",
              "      <td>Belgium</td>\n",
              "      <td>Real Madrid</td>\n",
              "      <td>91</td>\n",
              "      <td>91</td>\n",
              "      <td>90000000</td>\n",
              "      <td>470000</td>\n",
              "      <td>LW, CF</td>\n",
              "      <td>Right</td>\n",
              "      <td>4</td>\n",
              "      <td>4</td>\n",
              "      <td>4</td>\n",
              "      <td>High/Medium</td>\n",
              "      <td>Normal</td>\n",
              "      <td>Yes</td>\n",
              "      <td>184500000.0</td>\n",
              "      <td>#Speedster, #Dribbler, #Acrobat</td>\n",
              "      <td>LW</td>\n",
              "      <td>7.0</td>\n",
              "      <td>NaN</td>\n",
              "      <td>01-07-2019</td>\n",
              "      <td>2024.0</td>\n",
              "      <td>LF</td>\n",
              "      <td>10.0</td>\n",
              "      <td>91.0</td>\n",
              "      <td>83.0</td>\n",
              "      <td>86.0</td>\n",
              "      <td>94.0</td>\n",
              "      <td>35.0</td>\n",
              "      <td>66.0</td>\n",
              "      <td>Beat Offside Trap, Selfish, Finesse Shot, Spee...</td>\n",
              "      <td>81</td>\n",
              "      <td>84</td>\n",
              "      <td>61</td>\n",
              "      <td>89</td>\n",
              "      <td>83</td>\n",
              "      <td>95</td>\n",
              "      <td>83</td>\n",
              "      <td>79</td>\n",
              "      <td>83</td>\n",
              "      <td>94</td>\n",
              "      <td>94</td>\n",
              "      <td>88</td>\n",
              "      <td>95</td>\n",
              "      <td>90</td>\n",
              "      <td>94</td>\n",
              "      <td>82</td>\n",
              "      <td>56</td>\n",
              "      <td>84</td>\n",
              "      <td>63</td>\n",
              "      <td>80</td>\n",
              "      <td>54</td>\n",
              "      <td>41</td>\n",
              "      <td>87</td>\n",
              "      <td>89</td>\n",
              "      <td>88</td>\n",
              "      <td>91</td>\n",
              "      <td>34</td>\n",
              "      <td>27</td>\n",
              "      <td>22</td>\n",
              "      <td>11</td>\n",
              "      <td>12</td>\n",
              "      <td>6</td>\n",
              "      <td>8</td>\n",
              "      <td>8</td>\n",
              "    </tr>\n",
              "  </tbody>\n",
              "</table>\n",
              "</div>"
            ],
            "text/plain": [
              "   sofifa_id  ... goalkeeping_reflexes\n",
              "0     158023  ...                    8\n",
              "1      20801  ...                   11\n",
              "2     190871  ...                   11\n",
              "3     200389  ...                   89\n",
              "4     183277  ...                    8\n",
              "\n",
              "[5 rows x 72 columns]"
            ]
          },
          "metadata": {
            "tags": []
          },
          "execution_count": 2
        }
      ]
    },
    {
      "cell_type": "code",
      "metadata": {
        "id": "s_2oBP6dW2oU"
      },
      "source": [
        "# replacing null values with 0\n",
        "df = df.fillna(value= 0)"
      ],
      "execution_count": 3,
      "outputs": []
    },
    {
      "cell_type": "code",
      "metadata": {
        "id": "cRNGO15hHx1h"
      },
      "source": [
        "# Shuffling dataset ( to remove any biases in the dataset if any )\n",
        "df = df.sample(frac=1)"
      ],
      "execution_count": 4,
      "outputs": []
    },
    {
      "cell_type": "code",
      "metadata": {
        "colab": {
          "base_uri": "https://localhost:8080/",
          "height": 205
        },
        "id": "Cnt5fdinFOCp",
        "outputId": "7386fe0e-dcb1-49f0-bb74-fc157780f827"
      },
      "source": [
        "# nationality , club , body_type , work_rate\n",
        "# target : preferred_foot\n",
        "new_df=df[['nationality' , 'club' , 'body_type' , 'work_rate' , 'preferred_foot']]\n",
        "new_df.head()"
      ],
      "execution_count": 5,
      "outputs": [
        {
          "output_type": "execute_result",
          "data": {
            "text/html": [
              "<div>\n",
              "<style scoped>\n",
              "    .dataframe tbody tr th:only-of-type {\n",
              "        vertical-align: middle;\n",
              "    }\n",
              "\n",
              "    .dataframe tbody tr th {\n",
              "        vertical-align: top;\n",
              "    }\n",
              "\n",
              "    .dataframe thead th {\n",
              "        text-align: right;\n",
              "    }\n",
              "</style>\n",
              "<table border=\"1\" class=\"dataframe\">\n",
              "  <thead>\n",
              "    <tr style=\"text-align: right;\">\n",
              "      <th></th>\n",
              "      <th>nationality</th>\n",
              "      <th>club</th>\n",
              "      <th>body_type</th>\n",
              "      <th>work_rate</th>\n",
              "      <th>preferred_foot</th>\n",
              "    </tr>\n",
              "  </thead>\n",
              "  <tbody>\n",
              "    <tr>\n",
              "      <th>9557</th>\n",
              "      <td>Korea Republic</td>\n",
              "      <td>Ulsan Hyundai FC</td>\n",
              "      <td>Normal</td>\n",
              "      <td>Medium/Medium</td>\n",
              "      <td>Right</td>\n",
              "    </tr>\n",
              "    <tr>\n",
              "      <th>10844</th>\n",
              "      <td>Austria</td>\n",
              "      <td>TSV Hartberg</td>\n",
              "      <td>Stocky</td>\n",
              "      <td>Medium/Medium</td>\n",
              "      <td>Right</td>\n",
              "    </tr>\n",
              "    <tr>\n",
              "      <th>5155</th>\n",
              "      <td>Japan</td>\n",
              "      <td>Urawa Red Diamonds</td>\n",
              "      <td>Lean</td>\n",
              "      <td>High/Medium</td>\n",
              "      <td>Right</td>\n",
              "    </tr>\n",
              "    <tr>\n",
              "      <th>2668</th>\n",
              "      <td>Spain</td>\n",
              "      <td>Real Valladolid CF</td>\n",
              "      <td>Lean</td>\n",
              "      <td>High/Medium</td>\n",
              "      <td>Right</td>\n",
              "    </tr>\n",
              "    <tr>\n",
              "      <th>6141</th>\n",
              "      <td>Switzerland</td>\n",
              "      <td>FC Lugano</td>\n",
              "      <td>Lean</td>\n",
              "      <td>Medium/Medium</td>\n",
              "      <td>Left</td>\n",
              "    </tr>\n",
              "  </tbody>\n",
              "</table>\n",
              "</div>"
            ],
            "text/plain": [
              "          nationality                club  ...      work_rate preferred_foot\n",
              "9557   Korea Republic    Ulsan Hyundai FC  ...  Medium/Medium          Right\n",
              "10844         Austria        TSV Hartberg  ...  Medium/Medium          Right\n",
              "5155            Japan  Urawa Red Diamonds  ...    High/Medium          Right\n",
              "2668            Spain  Real Valladolid CF  ...    High/Medium          Right\n",
              "6141      Switzerland           FC Lugano  ...  Medium/Medium           Left\n",
              "\n",
              "[5 rows x 5 columns]"
            ]
          },
          "metadata": {
            "tags": []
          },
          "execution_count": 5
        }
      ]
    },
    {
      "cell_type": "code",
      "metadata": {
        "id": "hDg10YbdW4ue"
      },
      "source": [
        "# splitting dataset into 70:30 ratio\n",
        "\n",
        "# Defining train size\n",
        "train_size = int(0.7 * len(new_df))\n",
        "\n",
        "# Splitting dataset\n",
        "train_set = new_df[:train_size]\n",
        "test_set = new_df[train_size:]"
      ],
      "execution_count": 6,
      "outputs": []
    },
    {
      "cell_type": "code",
      "metadata": {
        "id": "gZOY2Mc6MLe7"
      },
      "source": [
        "# separating train_set into X and Y\n",
        "X_train=train_set.drop('preferred_foot', axis=1)\n",
        "y_train=train_set['preferred_foot']\n",
        "\n",
        "# separating test_set into X and Y\n",
        "X_test=test_set.drop('preferred_foot', axis=1)\n",
        "y_test=test_set['preferred_foot']"
      ],
      "execution_count": 7,
      "outputs": []
    },
    {
      "cell_type": "markdown",
      "metadata": {
        "id": "9kiBWfIOW7R1"
      },
      "source": [
        "# **Naïve Bayes**"
      ]
    },
    {
      "cell_type": "code",
      "metadata": {
        "id": "r75Ob6E530t0"
      },
      "source": [
        "def fit(X,y):\n",
        "\n",
        "  # to initialize likelihoodss, pred_priors, class_priors \n",
        "\n",
        "  features = list(X.columns)\n",
        "  likelihoodss={}\n",
        "  pred_priors={}\n",
        "  class_priors = {}\n",
        "\n",
        "  for feature in features:\n",
        "    likelihoodss[feature] = {}\n",
        "    pred_priors[feature] = {}\n",
        "\n",
        "    for feat_val in np.unique(X[feature]):\n",
        "      pred_priors[feature].update({feat_val: 0})\n",
        "\n",
        "      for outcome in np.unique(y):\n",
        "        likelihoodss[feature].update({feat_val+'_'+outcome:0})\n",
        "        class_priors.update({outcome: 0})\n",
        "      \n",
        "  return [features,likelihoodss,pred_priors,class_priors]"
      ],
      "execution_count": 8,
      "outputs": []
    },
    {
      "cell_type": "code",
      "metadata": {
        "id": "KdxmfGnm7A66"
      },
      "source": [
        "def prior_probability(y):\n",
        "\n",
        "  # Calculates prior probability\n",
        "\n",
        "  for outcome in np.unique(y):\n",
        "\t  outcome_count = sum(y == outcome)\n",
        "\t  class_priors[outcome] = outcome_count / train_size\n",
        "\n",
        "  return class_priors"
      ],
      "execution_count": 9,
      "outputs": []
    },
    {
      "cell_type": "code",
      "metadata": {
        "id": "fzuVAJUBbpcF"
      },
      "source": [
        "def predictor_prior(X):\n",
        "\n",
        "  # Calculates marginal probability\n",
        "\n",
        "  for feature in features:\n",
        "\t  feat_vals = X[feature].value_counts().to_dict()\n",
        "\n",
        "\t  for feat_val, count in feat_vals.items():\n",
        "\t\t  pred_priors[feature][feat_val] = count/train_size\n",
        "\n",
        "  return pred_priors"
      ],
      "execution_count": 10,
      "outputs": []
    },
    {
      "cell_type": "code",
      "metadata": {
        "id": "WSz3c4GfNAmS"
      },
      "source": [
        "def Likelihood(X,y):\n",
        "\n",
        "  # Calculates likelihood of features\n",
        "  \n",
        "  for feature in features:\n",
        "\n",
        "\t  for outcome in np.unique(y):\n",
        "\t\t  outcome_count = sum(y == outcome)\n",
        "\t\t  feat_likelihood = X[feature][y[y == outcome].index.values.tolist()].value_counts().to_dict()\n",
        "\n",
        "\t\t  for feat_val, count in feat_likelihood.items():\n",
        "\t\t\t  likelihoodss[feature][feat_val + '_' + outcome] = count/outcome_count\n",
        "\n",
        "  return likelihoodss"
      ],
      "execution_count": 11,
      "outputs": []
    },
    {
      "cell_type": "code",
      "metadata": {
        "id": "Wj4xPO6db7dm"
      },
      "source": [
        "def predict(X,y):\n",
        "\n",
        "  global features,likelihoodss,pred_priors,class_priors\n",
        "\n",
        "  # Calling required functions\n",
        "  li = fit(X,y) \n",
        "  \n",
        "  features = li[0]\n",
        "  likelihoodss = li[1]\n",
        "  pred_priors = li[2]\n",
        "  class_priors = li[3]\n",
        "\n",
        "  class_priors = prior_probability(y)\n",
        "  pred_priors = predictor_prior(X)\n",
        "  likelihoodss = Likelihood(X,y)\n",
        "\n",
        "\t# Calculates Posterior probability P(c|x) \n",
        "\n",
        "  results = []\n",
        "  X = np.array(X)\n",
        "\n",
        "  for query in X:\n",
        "\t  probs_outcome = {}\n",
        "\t  for outcome in np.unique(y):\n",
        "\t\t  prior = class_priors[outcome]\n",
        "\t\t  likelihood = 1\n",
        "\t\t  evidence = 1\n",
        "\n",
        "\t\t  for feat, feat_val in zip(features, query):\n",
        "\t\t\t  likelihood *= likelihoodss[feat][feat_val + '_' + outcome]\n",
        "\t\t\t  evidence *= pred_priors[feat][feat_val]\n",
        "\n",
        "\t\t  posterior = (likelihood * prior) / (evidence)\n",
        "\n",
        "\t\t  probs_outcome[outcome] = posterior\n",
        "\n",
        "\t  result = max(probs_outcome, key = lambda x: probs_outcome[x])\n",
        "\t  results.append(result)\n",
        "\n",
        "  return np.array(results)"
      ],
      "execution_count": 17,
      "outputs": []
    },
    {
      "cell_type": "code",
      "metadata": {
        "colab": {
          "base_uri": "https://localhost:8080/"
        },
        "id": "Luz6LV_cCtyR",
        "outputId": "8d8a3c69-23e4-4d94-ab63-23033ca11abb"
      },
      "source": [
        "predict(X_train,y_train)"
      ],
      "execution_count": 18,
      "outputs": [
        {
          "output_type": "execute_result",
          "data": {
            "text/plain": [
              "array(['Right', 'Right', 'Right', ..., 'Right', 'Right', 'Right'],\n",
              "      dtype='<U5')"
            ]
          },
          "metadata": {
            "tags": []
          },
          "execution_count": 18
        }
      ]
    },
    {
      "cell_type": "markdown",
      "metadata": {
        "id": "VaSg7mUp6lgx"
      },
      "source": [
        "### Accuracy score"
      ]
    },
    {
      "cell_type": "code",
      "metadata": {
        "id": "qqaYEkXr6nwc"
      },
      "source": [
        "def accuracy_score(y_true, y_pred):\n",
        "\n",
        "\t#\tscore = (y_true - y_pred) / len(y_true)\n",
        "\n",
        "\treturn round(float(sum(y_pred == y_true))/float(len(y_true)) * 100 ,2)"
      ],
      "execution_count": 19,
      "outputs": []
    },
    {
      "cell_type": "code",
      "metadata": {
        "id": "go4x7oojEf8F",
        "colab": {
          "base_uri": "https://localhost:8080/"
        },
        "outputId": "5efd97a0-4db5-4fa7-8f53-dc64f96ac3f3"
      },
      "source": [
        "print(\"Train Accuracy: {}\".format(accuracy_score(y_train, predict(X_train,y_train))))"
      ],
      "execution_count": 20,
      "outputs": [
        {
          "output_type": "stream",
          "text": [
            "Train Accuracy: 76.92\n"
          ],
          "name": "stdout"
        }
      ]
    },
    {
      "cell_type": "code",
      "metadata": {
        "id": "MJai_i1BJ6Pb",
        "colab": {
          "base_uri": "https://localhost:8080/"
        },
        "outputId": "382c8a2a-4340-4b66-d3fe-d22fa0a164fc"
      },
      "source": [
        "print(\"Test Accuracy: {}\".format(accuracy_score(y_test, predict(X_test,y_test))))"
      ],
      "execution_count": 21,
      "outputs": [
        {
          "output_type": "stream",
          "text": [
            "Test Accuracy: 77.22\n"
          ],
          "name": "stdout"
        }
      ]
    },
    {
      "cell_type": "markdown",
      "metadata": {
        "id": "lKi_8tH5IhBC"
      },
      "source": [
        "### Confusion matrix"
      ]
    },
    {
      "cell_type": "code",
      "metadata": {
        "id": "oNq1ItL8Ib8U",
        "colab": {
          "base_uri": "https://localhost:8080/"
        },
        "outputId": "0135c063-ec71-47de-c516-d02beaf89c13"
      },
      "source": [
        "confusion_matrix(y_test,predict(X_test,y_test))"
      ],
      "execution_count": 23,
      "outputs": [
        {
          "output_type": "execute_result",
          "data": {
            "text/plain": [
              "array([[ 260, 1068],\n",
              "       [ 181, 3975]])"
            ]
          },
          "metadata": {
            "tags": []
          },
          "execution_count": 23
        }
      ]
    }
  ]
}